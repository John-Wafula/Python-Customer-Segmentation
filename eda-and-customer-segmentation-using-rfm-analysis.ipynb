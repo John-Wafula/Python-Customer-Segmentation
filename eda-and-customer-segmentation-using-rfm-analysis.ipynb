{
 "cells": [
  {
   "cell_type": "code",
   "execution_count": 1,
   "id": "9c971d2d",
   "metadata": {
    "execution": {
     "iopub.execute_input": "2021-07-20T17:12:47.878201Z",
     "iopub.status.busy": "2021-07-20T17:12:47.877640Z",
     "iopub.status.idle": "2021-07-20T17:12:48.739302Z",
     "shell.execute_reply": "2021-07-20T17:12:48.738590Z",
     "shell.execute_reply.started": "2021-07-20T16:46:39.020814Z"
    },
    "id": "HNl_JS84VZbH",
    "papermill": {
     "duration": 0.911184,
     "end_time": "2021-07-20T17:12:48.739479",
     "exception": false,
     "start_time": "2021-07-20T17:12:47.828295",
     "status": "completed"
    },
    "tags": []
   },
   "outputs": [],
   "source": [
    "import numpy as np\n",
    "import pandas as pd\n",
    "import seaborn as sns\n",
    "import datetime as dt\n",
    "import matplotlib.pyplot as plt\n",
    "%matplotlib inline"
   ]
  },
  {
   "cell_type": "code",
   "execution_count": 2,
   "id": "63a8200f",
   "metadata": {
    "execution": {
     "iopub.execute_input": "2021-07-20T17:12:48.819962Z",
     "iopub.status.busy": "2021-07-20T17:12:48.819423Z",
     "iopub.status.idle": "2021-07-20T17:12:50.035618Z",
     "shell.execute_reply": "2021-07-20T17:12:50.035084Z",
     "shell.execute_reply.started": "2021-07-20T16:46:39.029765Z"
    },
    "id": "GdnzDqbkVZbK",
    "papermill": {
     "duration": 1.257996,
     "end_time": "2021-07-20T17:12:50.035766",
     "exception": false,
     "start_time": "2021-07-20T17:12:48.777770",
     "status": "completed"
    },
    "tags": []
   },
   "outputs": [],
   "source": [
    "df= pd.read_csv('../input/onlineretail/OnlineRetail.csv')"
   ]
  },
  {
   "cell_type": "code",
   "execution_count": 3,
   "id": "a0aa431f",
   "metadata": {
    "execution": {
     "iopub.execute_input": "2021-07-20T17:12:50.123533Z",
     "iopub.status.busy": "2021-07-20T17:12:50.122750Z",
     "iopub.status.idle": "2021-07-20T17:12:50.143683Z",
     "shell.execute_reply": "2021-07-20T17:12:50.144110Z",
     "shell.execute_reply.started": "2021-07-20T16:46:39.835330Z"
    },
    "id": "ImSuK8CRVZbL",
    "outputId": "a7bdad8f-920c-4871-dfec-e57848fa9446",
    "papermill": {
     "duration": 0.069999,
     "end_time": "2021-07-20T17:12:50.144262",
     "exception": false,
     "start_time": "2021-07-20T17:12:50.074263",
     "status": "completed"
    },
    "scrolled": true,
    "tags": []
   },
   "outputs": [
    {
     "data": {
      "text/html": [
       "<div>\n",
       "<style scoped>\n",
       "    .dataframe tbody tr th:only-of-type {\n",
       "        vertical-align: middle;\n",
       "    }\n",
       "\n",
       "    .dataframe tbody tr th {\n",
       "        vertical-align: top;\n",
       "    }\n",
       "\n",
       "    .dataframe thead th {\n",
       "        text-align: right;\n",
       "    }\n",
       "</style>\n",
       "<table border=\"1\" class=\"dataframe\">\n",
       "  <thead>\n",
       "    <tr style=\"text-align: right;\">\n",
       "      <th></th>\n",
       "      <th>InvoiceNo</th>\n",
       "      <th>StockCode</th>\n",
       "      <th>Description</th>\n",
       "      <th>Quantity</th>\n",
       "      <th>InvoiceDate</th>\n",
       "      <th>UnitPrice</th>\n",
       "      <th>CustomerID</th>\n",
       "      <th>Country</th>\n",
       "    </tr>\n",
       "  </thead>\n",
       "  <tbody>\n",
       "    <tr>\n",
       "      <th>0</th>\n",
       "      <td>536365</td>\n",
       "      <td>85123A</td>\n",
       "      <td>WHITE HANGING HEART T-LIGHT HOLDER</td>\n",
       "      <td>6</td>\n",
       "      <td>12/1/2010 8:26</td>\n",
       "      <td>2.55</td>\n",
       "      <td>17850.0</td>\n",
       "      <td>United Kingdom</td>\n",
       "    </tr>\n",
       "    <tr>\n",
       "      <th>1</th>\n",
       "      <td>536365</td>\n",
       "      <td>71053</td>\n",
       "      <td>WHITE METAL LANTERN</td>\n",
       "      <td>6</td>\n",
       "      <td>12/1/2010 8:26</td>\n",
       "      <td>3.39</td>\n",
       "      <td>17850.0</td>\n",
       "      <td>United Kingdom</td>\n",
       "    </tr>\n",
       "    <tr>\n",
       "      <th>2</th>\n",
       "      <td>536365</td>\n",
       "      <td>84406B</td>\n",
       "      <td>CREAM CUPID HEARTS COAT HANGER</td>\n",
       "      <td>8</td>\n",
       "      <td>12/1/2010 8:26</td>\n",
       "      <td>2.75</td>\n",
       "      <td>17850.0</td>\n",
       "      <td>United Kingdom</td>\n",
       "    </tr>\n",
       "    <tr>\n",
       "      <th>3</th>\n",
       "      <td>536365</td>\n",
       "      <td>84029G</td>\n",
       "      <td>KNITTED UNION FLAG HOT WATER BOTTLE</td>\n",
       "      <td>6</td>\n",
       "      <td>12/1/2010 8:26</td>\n",
       "      <td>3.39</td>\n",
       "      <td>17850.0</td>\n",
       "      <td>United Kingdom</td>\n",
       "    </tr>\n",
       "    <tr>\n",
       "      <th>4</th>\n",
       "      <td>536365</td>\n",
       "      <td>84029E</td>\n",
       "      <td>RED WOOLLY HOTTIE WHITE HEART.</td>\n",
       "      <td>6</td>\n",
       "      <td>12/1/2010 8:26</td>\n",
       "      <td>3.39</td>\n",
       "      <td>17850.0</td>\n",
       "      <td>United Kingdom</td>\n",
       "    </tr>\n",
       "  </tbody>\n",
       "</table>\n",
       "</div>"
      ],
      "text/plain": [
       "  InvoiceNo StockCode                          Description  Quantity  \\\n",
       "0    536365    85123A   WHITE HANGING HEART T-LIGHT HOLDER         6   \n",
       "1    536365     71053                  WHITE METAL LANTERN         6   \n",
       "2    536365    84406B       CREAM CUPID HEARTS COAT HANGER         8   \n",
       "3    536365    84029G  KNITTED UNION FLAG HOT WATER BOTTLE         6   \n",
       "4    536365    84029E       RED WOOLLY HOTTIE WHITE HEART.         6   \n",
       "\n",
       "      InvoiceDate  UnitPrice  CustomerID         Country  \n",
       "0  12/1/2010 8:26       2.55     17850.0  United Kingdom  \n",
       "1  12/1/2010 8:26       3.39     17850.0  United Kingdom  \n",
       "2  12/1/2010 8:26       2.75     17850.0  United Kingdom  \n",
       "3  12/1/2010 8:26       3.39     17850.0  United Kingdom  \n",
       "4  12/1/2010 8:26       3.39     17850.0  United Kingdom  "
      ]
     },
     "execution_count": 3,
     "metadata": {},
     "output_type": "execute_result"
    }
   ],
   "source": [
    "df.head()"
   ]
  },
  {
   "cell_type": "code",
   "execution_count": 4,
   "id": "f41bcd5b",
   "metadata": {
    "execution": {
     "iopub.execute_input": "2021-07-20T17:12:50.229063Z",
     "iopub.status.busy": "2021-07-20T17:12:50.228255Z",
     "iopub.status.idle": "2021-07-20T17:12:50.231509Z",
     "shell.execute_reply": "2021-07-20T17:12:50.232010Z",
     "shell.execute_reply.started": "2021-07-20T16:46:39.855870Z"
    },
    "id": "o0aR8zTPVZbM",
    "outputId": "4a7cddeb-0498-40a5-a954-cf8748b5702d",
    "papermill": {
     "duration": 0.047986,
     "end_time": "2021-07-20T17:12:50.232162",
     "exception": false,
     "start_time": "2021-07-20T17:12:50.184176",
     "status": "completed"
    },
    "tags": []
   },
   "outputs": [
    {
     "data": {
      "text/plain": [
       "(541909, 8)"
      ]
     },
     "execution_count": 4,
     "metadata": {},
     "output_type": "execute_result"
    }
   ],
   "source": [
    "df.shape"
   ]
  },
  {
   "cell_type": "markdown",
   "id": "f48f8eb1",
   "metadata": {
    "id": "jde71TOYVZbM",
    "papermill": {
     "duration": 0.039126,
     "end_time": "2021-07-20T17:12:50.310313",
     "exception": false,
     "start_time": "2021-07-20T17:12:50.271187",
     "status": "completed"
    },
    "tags": []
   },
   "source": [
    "### Drop the Invoice No. column as it is not needed"
   ]
  },
  {
   "cell_type": "code",
   "execution_count": 5,
   "id": "b4ed6bef",
   "metadata": {
    "execution": {
     "iopub.execute_input": "2021-07-20T17:12:50.411065Z",
     "iopub.status.busy": "2021-07-20T17:12:50.410160Z",
     "iopub.status.idle": "2021-07-20T17:12:50.447184Z",
     "shell.execute_reply": "2021-07-20T17:12:50.446608Z",
     "shell.execute_reply.started": "2021-07-20T16:46:39.870221Z"
    },
    "id": "R3QKmbBZVZbM",
    "papermill": {
     "duration": 0.087114,
     "end_time": "2021-07-20T17:12:50.447325",
     "exception": false,
     "start_time": "2021-07-20T17:12:50.360211",
     "status": "completed"
    },
    "tags": []
   },
   "outputs": [],
   "source": [
    "df.drop(['InvoiceNo'],axis='columns',inplace= True)"
   ]
  },
  {
   "cell_type": "markdown",
   "id": "f653c338",
   "metadata": {
    "id": "vJVt3JJzVZbM",
    "papermill": {
     "duration": 0.038944,
     "end_time": "2021-07-20T17:12:50.531315",
     "exception": false,
     "start_time": "2021-07-20T17:12:50.492371",
     "status": "completed"
    },
    "tags": []
   },
   "source": [
    "### find the basic informations using info() and describe() to understand the dataset better"
   ]
  },
  {
   "cell_type": "code",
   "execution_count": 6,
   "id": "758e3608",
   "metadata": {
    "execution": {
     "iopub.execute_input": "2021-07-20T17:12:50.612182Z",
     "iopub.status.busy": "2021-07-20T17:12:50.611297Z",
     "iopub.status.idle": "2021-07-20T17:12:50.717761Z",
     "shell.execute_reply": "2021-07-20T17:12:50.716919Z",
     "shell.execute_reply.started": "2021-07-20T16:46:39.904864Z"
    },
    "id": "RLuJJkvxVZbN",
    "outputId": "272bc579-4eec-4d32-c612-d4e006095375",
    "papermill": {
     "duration": 0.147948,
     "end_time": "2021-07-20T17:12:50.717900",
     "exception": false,
     "start_time": "2021-07-20T17:12:50.569952",
     "status": "completed"
    },
    "tags": []
   },
   "outputs": [
    {
     "name": "stdout",
     "output_type": "stream",
     "text": [
      "<class 'pandas.core.frame.DataFrame'>\n",
      "RangeIndex: 541909 entries, 0 to 541908\n",
      "Data columns (total 7 columns):\n",
      " #   Column       Non-Null Count   Dtype  \n",
      "---  ------       --------------   -----  \n",
      " 0   StockCode    541909 non-null  object \n",
      " 1   Description  540455 non-null  object \n",
      " 2   Quantity     541909 non-null  int64  \n",
      " 3   InvoiceDate  541909 non-null  object \n",
      " 4   UnitPrice    541909 non-null  float64\n",
      " 5   CustomerID   406829 non-null  float64\n",
      " 6   Country      541909 non-null  object \n",
      "dtypes: float64(2), int64(1), object(4)\n",
      "memory usage: 28.9+ MB\n"
     ]
    }
   ],
   "source": [
    "df.info()"
   ]
  },
  {
   "cell_type": "code",
   "execution_count": 7,
   "id": "833b1f2b",
   "metadata": {
    "execution": {
     "iopub.execute_input": "2021-07-20T17:12:50.811269Z",
     "iopub.status.busy": "2021-07-20T17:12:50.810682Z",
     "iopub.status.idle": "2021-07-20T17:12:50.880027Z",
     "shell.execute_reply": "2021-07-20T17:12:50.880467Z",
     "shell.execute_reply.started": "2021-07-20T16:46:40.137209Z"
    },
    "id": "nFPX1uM4VZbN",
    "outputId": "3858c0e4-d597-40ad-95dd-0c432bf82326",
    "papermill": {
     "duration": 0.121488,
     "end_time": "2021-07-20T17:12:50.880626",
     "exception": false,
     "start_time": "2021-07-20T17:12:50.759138",
     "status": "completed"
    },
    "tags": []
   },
   "outputs": [
    {
     "data": {
      "text/html": [
       "<div>\n",
       "<style scoped>\n",
       "    .dataframe tbody tr th:only-of-type {\n",
       "        vertical-align: middle;\n",
       "    }\n",
       "\n",
       "    .dataframe tbody tr th {\n",
       "        vertical-align: top;\n",
       "    }\n",
       "\n",
       "    .dataframe thead th {\n",
       "        text-align: right;\n",
       "    }\n",
       "</style>\n",
       "<table border=\"1\" class=\"dataframe\">\n",
       "  <thead>\n",
       "    <tr style=\"text-align: right;\">\n",
       "      <th></th>\n",
       "      <th>Quantity</th>\n",
       "      <th>UnitPrice</th>\n",
       "      <th>CustomerID</th>\n",
       "    </tr>\n",
       "  </thead>\n",
       "  <tbody>\n",
       "    <tr>\n",
       "      <th>count</th>\n",
       "      <td>541909.000000</td>\n",
       "      <td>541909.000000</td>\n",
       "      <td>406829.000000</td>\n",
       "    </tr>\n",
       "    <tr>\n",
       "      <th>mean</th>\n",
       "      <td>9.552250</td>\n",
       "      <td>4.611114</td>\n",
       "      <td>15287.690570</td>\n",
       "    </tr>\n",
       "    <tr>\n",
       "      <th>std</th>\n",
       "      <td>218.081158</td>\n",
       "      <td>96.759853</td>\n",
       "      <td>1713.600303</td>\n",
       "    </tr>\n",
       "    <tr>\n",
       "      <th>min</th>\n",
       "      <td>-80995.000000</td>\n",
       "      <td>-11062.060000</td>\n",
       "      <td>12346.000000</td>\n",
       "    </tr>\n",
       "    <tr>\n",
       "      <th>25%</th>\n",
       "      <td>1.000000</td>\n",
       "      <td>1.250000</td>\n",
       "      <td>13953.000000</td>\n",
       "    </tr>\n",
       "    <tr>\n",
       "      <th>50%</th>\n",
       "      <td>3.000000</td>\n",
       "      <td>2.080000</td>\n",
       "      <td>15152.000000</td>\n",
       "    </tr>\n",
       "    <tr>\n",
       "      <th>75%</th>\n",
       "      <td>10.000000</td>\n",
       "      <td>4.130000</td>\n",
       "      <td>16791.000000</td>\n",
       "    </tr>\n",
       "    <tr>\n",
       "      <th>max</th>\n",
       "      <td>80995.000000</td>\n",
       "      <td>38970.000000</td>\n",
       "      <td>18287.000000</td>\n",
       "    </tr>\n",
       "  </tbody>\n",
       "</table>\n",
       "</div>"
      ],
      "text/plain": [
       "            Quantity      UnitPrice     CustomerID\n",
       "count  541909.000000  541909.000000  406829.000000\n",
       "mean        9.552250       4.611114   15287.690570\n",
       "std       218.081158      96.759853    1713.600303\n",
       "min    -80995.000000  -11062.060000   12346.000000\n",
       "25%         1.000000       1.250000   13953.000000\n",
       "50%         3.000000       2.080000   15152.000000\n",
       "75%        10.000000       4.130000   16791.000000\n",
       "max     80995.000000   38970.000000   18287.000000"
      ]
     },
     "execution_count": 7,
     "metadata": {},
     "output_type": "execute_result"
    }
   ],
   "source": [
    "df.describe()"
   ]
  },
  {
   "cell_type": "markdown",
   "id": "47881891",
   "metadata": {
    "id": "x_Q6VbaMVZbO",
    "papermill": {
     "duration": 0.044734,
     "end_time": "2021-07-20T17:12:50.965728",
     "exception": false,
     "start_time": "2021-07-20T17:12:50.920994",
     "status": "completed"
    },
    "tags": []
   },
   "source": [
    "### count of null values in each column"
   ]
  },
  {
   "cell_type": "code",
   "execution_count": 8,
   "id": "7dbd527d",
   "metadata": {
    "execution": {
     "iopub.execute_input": "2021-07-20T17:12:51.133411Z",
     "iopub.status.busy": "2021-07-20T17:12:51.132791Z",
     "iopub.status.idle": "2021-07-20T17:12:51.170445Z",
     "shell.execute_reply": "2021-07-20T17:12:51.169951Z",
     "shell.execute_reply.started": "2021-07-20T16:46:40.210006Z"
    },
    "id": "pTtltMxTVZbO",
    "outputId": "7d7f6274-b99a-428e-b16e-004f9b9bc5e6",
    "papermill": {
     "duration": 0.162154,
     "end_time": "2021-07-20T17:12:51.170589",
     "exception": false,
     "start_time": "2021-07-20T17:12:51.008435",
     "status": "completed"
    },
    "tags": []
   },
   "outputs": [
    {
     "data": {
      "text/plain": [
       "Description      1454\n",
       "CustomerID     135080\n",
       "dtype: int64"
      ]
     },
     "execution_count": 8,
     "metadata": {},
     "output_type": "execute_result"
    }
   ],
   "source": [
    "df[df.columns[df.isnull().any()]].isnull().sum()"
   ]
  },
  {
   "cell_type": "markdown",
   "id": "72f66dde",
   "metadata": {
    "id": "A0XC9QX2VZbO",
    "papermill": {
     "duration": 0.039835,
     "end_time": "2021-07-20T17:12:51.251153",
     "exception": false,
     "start_time": "2021-07-20T17:12:51.211318",
     "status": "completed"
    },
    "tags": []
   },
   "source": [
    "## Handling Null Values\n"
   ]
  },
  {
   "cell_type": "markdown",
   "id": "8ad83d97",
   "metadata": {
    "id": "vyMb_QD2VZbO",
    "papermill": {
     "duration": 0.039849,
     "end_time": "2021-07-20T17:12:51.331106",
     "exception": false,
     "start_time": "2021-07-20T17:12:51.291257",
     "status": "completed"
    },
    "tags": []
   },
   "source": [
    "\n",
    "### since the values that are null for description are null for both customer id and unitprice and the description has less missing values thus i will drop the rows will missing values in Description feature"
   ]
  },
  {
   "cell_type": "code",
   "execution_count": 9,
   "id": "bf81102d",
   "metadata": {
    "execution": {
     "iopub.execute_input": "2021-07-20T17:12:51.418170Z",
     "iopub.status.busy": "2021-07-20T17:12:51.417558Z",
     "iopub.status.idle": "2021-07-20T17:12:51.516920Z",
     "shell.execute_reply": "2021-07-20T17:12:51.516397Z",
     "shell.execute_reply.started": "2021-07-20T16:46:40.492507Z"
    },
    "id": "qHvRzzO8VZbP",
    "papermill": {
     "duration": 0.144614,
     "end_time": "2021-07-20T17:12:51.517055",
     "exception": false,
     "start_time": "2021-07-20T17:12:51.372441",
     "status": "completed"
    },
    "tags": []
   },
   "outputs": [],
   "source": [
    "df.dropna(subset=['Description','CustomerID'], how='all', inplace= True)"
   ]
  },
  {
   "cell_type": "markdown",
   "id": "9ea2d764",
   "metadata": {
    "id": "nVeTui8XVZbP",
    "papermill": {
     "duration": 0.040547,
     "end_time": "2021-07-20T17:12:51.597722",
     "exception": false,
     "start_time": "2021-07-20T17:12:51.557175",
     "status": "completed"
    },
    "tags": []
   },
   "source": [
    "### removing the special characters from descritpion column to make it a little more consistant"
   ]
  },
  {
   "cell_type": "code",
   "execution_count": 10,
   "id": "d054b9fa",
   "metadata": {
    "execution": {
     "iopub.execute_input": "2021-07-20T17:12:51.681708Z",
     "iopub.status.busy": "2021-07-20T17:12:51.680825Z",
     "iopub.status.idle": "2021-07-20T17:12:52.954162Z",
     "shell.execute_reply": "2021-07-20T17:12:52.954653Z",
     "shell.execute_reply.started": "2021-07-20T16:46:40.599695Z"
    },
    "id": "9sQI2xJiVZbP",
    "papermill": {
     "duration": 1.316766,
     "end_time": "2021-07-20T17:12:52.954849",
     "exception": false,
     "start_time": "2021-07-20T17:12:51.638083",
     "status": "completed"
    },
    "tags": []
   },
   "outputs": [
    {
     "name": "stderr",
     "output_type": "stream",
     "text": [
      "/opt/conda/lib/python3.7/site-packages/ipykernel_launcher.py:1: FutureWarning: The default value of regex will change from True to False in a future version.\n",
      "  \"\"\"Entry point for launching an IPython kernel.\n"
     ]
    }
   ],
   "source": [
    "df.Description = df.Description.str.replace('\\W+', '')"
   ]
  },
  {
   "cell_type": "code",
   "execution_count": 11,
   "id": "b3b2debc",
   "metadata": {
    "execution": {
     "iopub.execute_input": "2021-07-20T17:12:53.060116Z",
     "iopub.status.busy": "2021-07-20T17:12:53.059503Z",
     "iopub.status.idle": "2021-07-20T17:12:53.233004Z",
     "shell.execute_reply": "2021-07-20T17:12:53.232506Z",
     "shell.execute_reply.started": "2021-07-20T16:46:42.463127Z"
    },
    "id": "7xGya4zhVZbP",
    "papermill": {
     "duration": 0.237926,
     "end_time": "2021-07-20T17:12:53.233146",
     "exception": false,
     "start_time": "2021-07-20T17:12:52.995220",
     "status": "completed"
    },
    "tags": []
   },
   "outputs": [],
   "source": [
    "df['Description']= df['Description'].str.lower()"
   ]
  },
  {
   "cell_type": "markdown",
   "id": "2d584581",
   "metadata": {
    "id": "04At3oybVZbP",
    "papermill": {
     "duration": 0.040286,
     "end_time": "2021-07-20T17:12:53.314147",
     "exception": false,
     "start_time": "2021-07-20T17:12:53.273861",
     "status": "completed"
    },
    "tags": []
   },
   "source": [
    "### considering the negative quantities as 0 for rfm analysis"
   ]
  },
  {
   "cell_type": "code",
   "execution_count": 12,
   "id": "4c2f1900",
   "metadata": {
    "execution": {
     "iopub.execute_input": "2021-07-20T17:12:53.413136Z",
     "iopub.status.busy": "2021-07-20T17:12:53.408081Z",
     "iopub.status.idle": "2021-07-20T17:12:53.590564Z",
     "shell.execute_reply": "2021-07-20T17:12:53.590039Z",
     "shell.execute_reply.started": "2021-07-20T16:46:42.780320Z"
    },
    "id": "_DWoLyG5VZbP",
    "papermill": {
     "duration": 0.236225,
     "end_time": "2021-07-20T17:12:53.590711",
     "exception": false,
     "start_time": "2021-07-20T17:12:53.354486",
     "status": "completed"
    },
    "tags": []
   },
   "outputs": [],
   "source": [
    "df['Quantity']= list(map((lambda x: 0 if(x<0) else x),df['Quantity']))"
   ]
  },
  {
   "cell_type": "markdown",
   "id": "81a33166",
   "metadata": {
    "id": "JaxGD5QwVZbP",
    "papermill": {
     "duration": 0.040444,
     "end_time": "2021-07-20T17:12:53.671521",
     "exception": false,
     "start_time": "2021-07-20T17:12:53.631077",
     "status": "completed"
    },
    "tags": []
   },
   "source": [
    "### creating a new column called price which will quantity x unitprice"
   ]
  },
  {
   "cell_type": "code",
   "execution_count": 13,
   "id": "755ff9db",
   "metadata": {
    "execution": {
     "iopub.execute_input": "2021-07-20T17:12:53.758529Z",
     "iopub.status.busy": "2021-07-20T17:12:53.757920Z",
     "iopub.status.idle": "2021-07-20T17:12:53.762214Z",
     "shell.execute_reply": "2021-07-20T17:12:53.761759Z",
     "shell.execute_reply.started": "2021-07-20T16:46:43.148314Z"
    },
    "id": "EwBYeFlxVZbQ",
    "papermill": {
     "duration": 0.050423,
     "end_time": "2021-07-20T17:12:53.762355",
     "exception": false,
     "start_time": "2021-07-20T17:12:53.711932",
     "status": "completed"
    },
    "tags": []
   },
   "outputs": [],
   "source": [
    "df['Price']= df['Quantity'] * df['UnitPrice']"
   ]
  },
  {
   "cell_type": "code",
   "execution_count": 14,
   "id": "8c19dd7c",
   "metadata": {
    "execution": {
     "iopub.execute_input": "2021-07-20T17:12:53.858119Z",
     "iopub.status.busy": "2021-07-20T17:12:53.857537Z",
     "iopub.status.idle": "2021-07-20T17:12:53.860291Z",
     "shell.execute_reply": "2021-07-20T17:12:53.860807Z",
     "shell.execute_reply.started": "2021-07-20T16:46:43.158131Z"
    },
    "id": "BqyJ7VyQVZbQ",
    "outputId": "46968b1d-b691-472d-f589-98a559545193",
    "papermill": {
     "duration": 0.057782,
     "end_time": "2021-07-20T17:12:53.860964",
     "exception": false,
     "start_time": "2021-07-20T17:12:53.803182",
     "status": "completed"
    },
    "scrolled": true,
    "tags": []
   },
   "outputs": [
    {
     "data": {
      "text/html": [
       "<div>\n",
       "<style scoped>\n",
       "    .dataframe tbody tr th:only-of-type {\n",
       "        vertical-align: middle;\n",
       "    }\n",
       "\n",
       "    .dataframe tbody tr th {\n",
       "        vertical-align: top;\n",
       "    }\n",
       "\n",
       "    .dataframe thead th {\n",
       "        text-align: right;\n",
       "    }\n",
       "</style>\n",
       "<table border=\"1\" class=\"dataframe\">\n",
       "  <thead>\n",
       "    <tr style=\"text-align: right;\">\n",
       "      <th></th>\n",
       "      <th>StockCode</th>\n",
       "      <th>Description</th>\n",
       "      <th>Quantity</th>\n",
       "      <th>InvoiceDate</th>\n",
       "      <th>UnitPrice</th>\n",
       "      <th>CustomerID</th>\n",
       "      <th>Country</th>\n",
       "      <th>Price</th>\n",
       "    </tr>\n",
       "  </thead>\n",
       "  <tbody>\n",
       "    <tr>\n",
       "      <th>0</th>\n",
       "      <td>85123A</td>\n",
       "      <td>whitehanginghearttlightholder</td>\n",
       "      <td>6</td>\n",
       "      <td>12/1/2010 8:26</td>\n",
       "      <td>2.55</td>\n",
       "      <td>17850.0</td>\n",
       "      <td>United Kingdom</td>\n",
       "      <td>15.30</td>\n",
       "    </tr>\n",
       "    <tr>\n",
       "      <th>1</th>\n",
       "      <td>71053</td>\n",
       "      <td>whitemetallantern</td>\n",
       "      <td>6</td>\n",
       "      <td>12/1/2010 8:26</td>\n",
       "      <td>3.39</td>\n",
       "      <td>17850.0</td>\n",
       "      <td>United Kingdom</td>\n",
       "      <td>20.34</td>\n",
       "    </tr>\n",
       "    <tr>\n",
       "      <th>2</th>\n",
       "      <td>84406B</td>\n",
       "      <td>creamcupidheartscoathanger</td>\n",
       "      <td>8</td>\n",
       "      <td>12/1/2010 8:26</td>\n",
       "      <td>2.75</td>\n",
       "      <td>17850.0</td>\n",
       "      <td>United Kingdom</td>\n",
       "      <td>22.00</td>\n",
       "    </tr>\n",
       "    <tr>\n",
       "      <th>3</th>\n",
       "      <td>84029G</td>\n",
       "      <td>knittedunionflaghotwaterbottle</td>\n",
       "      <td>6</td>\n",
       "      <td>12/1/2010 8:26</td>\n",
       "      <td>3.39</td>\n",
       "      <td>17850.0</td>\n",
       "      <td>United Kingdom</td>\n",
       "      <td>20.34</td>\n",
       "    </tr>\n",
       "    <tr>\n",
       "      <th>4</th>\n",
       "      <td>84029E</td>\n",
       "      <td>redwoollyhottiewhiteheart</td>\n",
       "      <td>6</td>\n",
       "      <td>12/1/2010 8:26</td>\n",
       "      <td>3.39</td>\n",
       "      <td>17850.0</td>\n",
       "      <td>United Kingdom</td>\n",
       "      <td>20.34</td>\n",
       "    </tr>\n",
       "  </tbody>\n",
       "</table>\n",
       "</div>"
      ],
      "text/plain": [
       "  StockCode                     Description  Quantity     InvoiceDate  \\\n",
       "0    85123A   whitehanginghearttlightholder         6  12/1/2010 8:26   \n",
       "1     71053               whitemetallantern         6  12/1/2010 8:26   \n",
       "2    84406B      creamcupidheartscoathanger         8  12/1/2010 8:26   \n",
       "3    84029G  knittedunionflaghotwaterbottle         6  12/1/2010 8:26   \n",
       "4    84029E       redwoollyhottiewhiteheart         6  12/1/2010 8:26   \n",
       "\n",
       "   UnitPrice  CustomerID         Country  Price  \n",
       "0       2.55     17850.0  United Kingdom  15.30  \n",
       "1       3.39     17850.0  United Kingdom  20.34  \n",
       "2       2.75     17850.0  United Kingdom  22.00  \n",
       "3       3.39     17850.0  United Kingdom  20.34  \n",
       "4       3.39     17850.0  United Kingdom  20.34  "
      ]
     },
     "execution_count": 14,
     "metadata": {},
     "output_type": "execute_result"
    }
   ],
   "source": [
    "df.head()"
   ]
  },
  {
   "cell_type": "markdown",
   "id": "069f9506",
   "metadata": {
    "id": "CfT4cg1KVZbQ",
    "papermill": {
     "duration": 0.040549,
     "end_time": "2021-07-20T17:12:53.942465",
     "exception": false,
     "start_time": "2021-07-20T17:12:53.901916",
     "status": "completed"
    },
    "tags": []
   },
   "source": [
    "## Let's derive a separate column for Date from Invoice Date"
   ]
  },
  {
   "cell_type": "code",
   "execution_count": 15,
   "id": "90232ce5",
   "metadata": {
    "execution": {
     "iopub.execute_input": "2021-07-20T17:12:54.027535Z",
     "iopub.status.busy": "2021-07-20T17:12:54.026986Z",
     "iopub.status.idle": "2021-07-20T17:12:56.072183Z",
     "shell.execute_reply": "2021-07-20T17:12:56.071519Z",
     "shell.execute_reply.started": "2021-07-20T16:46:43.182867Z"
    },
    "id": "am4n03OAVZbQ",
    "papermill": {
     "duration": 2.08863,
     "end_time": "2021-07-20T17:12:56.072331",
     "exception": false,
     "start_time": "2021-07-20T17:12:53.983701",
     "status": "completed"
    },
    "tags": []
   },
   "outputs": [],
   "source": [
    "df['date'] = pd.to_datetime(df['InvoiceDate']).dt.date"
   ]
  },
  {
   "cell_type": "code",
   "execution_count": 16,
   "id": "724fbf1b",
   "metadata": {
    "execution": {
     "iopub.execute_input": "2021-07-20T17:12:56.167546Z",
     "iopub.status.busy": "2021-07-20T17:12:56.166929Z",
     "iopub.status.idle": "2021-07-20T17:12:56.169303Z",
     "shell.execute_reply": "2021-07-20T17:12:56.169738Z",
     "shell.execute_reply.started": "2021-07-20T16:46:45.783557Z"
    },
    "id": "y2JdjRKOVZbQ",
    "outputId": "8e2ad21f-6338-4ca8-ee66-50cc655041c5",
    "papermill": {
     "duration": 0.057101,
     "end_time": "2021-07-20T17:12:56.169894",
     "exception": false,
     "start_time": "2021-07-20T17:12:56.112793",
     "status": "completed"
    },
    "tags": []
   },
   "outputs": [
    {
     "data": {
      "text/html": [
       "<div>\n",
       "<style scoped>\n",
       "    .dataframe tbody tr th:only-of-type {\n",
       "        vertical-align: middle;\n",
       "    }\n",
       "\n",
       "    .dataframe tbody tr th {\n",
       "        vertical-align: top;\n",
       "    }\n",
       "\n",
       "    .dataframe thead th {\n",
       "        text-align: right;\n",
       "    }\n",
       "</style>\n",
       "<table border=\"1\" class=\"dataframe\">\n",
       "  <thead>\n",
       "    <tr style=\"text-align: right;\">\n",
       "      <th></th>\n",
       "      <th>StockCode</th>\n",
       "      <th>Description</th>\n",
       "      <th>Quantity</th>\n",
       "      <th>InvoiceDate</th>\n",
       "      <th>UnitPrice</th>\n",
       "      <th>CustomerID</th>\n",
       "      <th>Country</th>\n",
       "      <th>Price</th>\n",
       "      <th>date</th>\n",
       "    </tr>\n",
       "  </thead>\n",
       "  <tbody>\n",
       "    <tr>\n",
       "      <th>0</th>\n",
       "      <td>85123A</td>\n",
       "      <td>whitehanginghearttlightholder</td>\n",
       "      <td>6</td>\n",
       "      <td>12/1/2010 8:26</td>\n",
       "      <td>2.55</td>\n",
       "      <td>17850.0</td>\n",
       "      <td>United Kingdom</td>\n",
       "      <td>15.30</td>\n",
       "      <td>2010-12-01</td>\n",
       "    </tr>\n",
       "    <tr>\n",
       "      <th>1</th>\n",
       "      <td>71053</td>\n",
       "      <td>whitemetallantern</td>\n",
       "      <td>6</td>\n",
       "      <td>12/1/2010 8:26</td>\n",
       "      <td>3.39</td>\n",
       "      <td>17850.0</td>\n",
       "      <td>United Kingdom</td>\n",
       "      <td>20.34</td>\n",
       "      <td>2010-12-01</td>\n",
       "    </tr>\n",
       "    <tr>\n",
       "      <th>2</th>\n",
       "      <td>84406B</td>\n",
       "      <td>creamcupidheartscoathanger</td>\n",
       "      <td>8</td>\n",
       "      <td>12/1/2010 8:26</td>\n",
       "      <td>2.75</td>\n",
       "      <td>17850.0</td>\n",
       "      <td>United Kingdom</td>\n",
       "      <td>22.00</td>\n",
       "      <td>2010-12-01</td>\n",
       "    </tr>\n",
       "    <tr>\n",
       "      <th>3</th>\n",
       "      <td>84029G</td>\n",
       "      <td>knittedunionflaghotwaterbottle</td>\n",
       "      <td>6</td>\n",
       "      <td>12/1/2010 8:26</td>\n",
       "      <td>3.39</td>\n",
       "      <td>17850.0</td>\n",
       "      <td>United Kingdom</td>\n",
       "      <td>20.34</td>\n",
       "      <td>2010-12-01</td>\n",
       "    </tr>\n",
       "    <tr>\n",
       "      <th>4</th>\n",
       "      <td>84029E</td>\n",
       "      <td>redwoollyhottiewhiteheart</td>\n",
       "      <td>6</td>\n",
       "      <td>12/1/2010 8:26</td>\n",
       "      <td>3.39</td>\n",
       "      <td>17850.0</td>\n",
       "      <td>United Kingdom</td>\n",
       "      <td>20.34</td>\n",
       "      <td>2010-12-01</td>\n",
       "    </tr>\n",
       "  </tbody>\n",
       "</table>\n",
       "</div>"
      ],
      "text/plain": [
       "  StockCode                     Description  Quantity     InvoiceDate  \\\n",
       "0    85123A   whitehanginghearttlightholder         6  12/1/2010 8:26   \n",
       "1     71053               whitemetallantern         6  12/1/2010 8:26   \n",
       "2    84406B      creamcupidheartscoathanger         8  12/1/2010 8:26   \n",
       "3    84029G  knittedunionflaghotwaterbottle         6  12/1/2010 8:26   \n",
       "4    84029E       redwoollyhottiewhiteheart         6  12/1/2010 8:26   \n",
       "\n",
       "   UnitPrice  CustomerID         Country  Price        date  \n",
       "0       2.55     17850.0  United Kingdom  15.30  2010-12-01  \n",
       "1       3.39     17850.0  United Kingdom  20.34  2010-12-01  \n",
       "2       2.75     17850.0  United Kingdom  22.00  2010-12-01  \n",
       "3       3.39     17850.0  United Kingdom  20.34  2010-12-01  \n",
       "4       3.39     17850.0  United Kingdom  20.34  2010-12-01  "
      ]
     },
     "execution_count": 16,
     "metadata": {},
     "output_type": "execute_result"
    }
   ],
   "source": [
    "df.head()"
   ]
  },
  {
   "cell_type": "markdown",
   "id": "ab928559",
   "metadata": {
    "id": "yI2NzX5YVZbQ",
    "papermill": {
     "duration": 0.040427,
     "end_time": "2021-07-20T17:12:56.251146",
     "exception": false,
     "start_time": "2021-07-20T17:12:56.210719",
     "status": "completed"
    },
    "tags": []
   },
   "source": [
    "## Inorder to fix the date of analysis we will see the date range "
   ]
  },
  {
   "cell_type": "code",
   "execution_count": 17,
   "id": "41695b56",
   "metadata": {
    "execution": {
     "iopub.execute_input": "2021-07-20T17:12:56.335601Z",
     "iopub.status.busy": "2021-07-20T17:12:56.335026Z",
     "iopub.status.idle": "2021-07-20T17:12:56.401328Z",
     "shell.execute_reply": "2021-07-20T17:12:56.401986Z",
     "shell.execute_reply.started": "2021-07-20T16:46:45.803737Z"
    },
    "id": "g00MPbkaVZbR",
    "outputId": "b5b0f295-9bcf-4453-d6b7-2652168e6740",
    "papermill": {
     "duration": 0.110513,
     "end_time": "2021-07-20T17:12:56.402214",
     "exception": false,
     "start_time": "2021-07-20T17:12:56.291701",
     "status": "completed"
    },
    "tags": []
   },
   "outputs": [
    {
     "name": "stdout",
     "output_type": "stream",
     "text": [
      "2010-12-01 2011-12-09\n"
     ]
    }
   ],
   "source": [
    "print(df['date'].min(), df['date'].max())"
   ]
  },
  {
   "cell_type": "markdown",
   "id": "038a33d2",
   "metadata": {
    "id": "IPRIjMaBVZbR",
    "papermill": {
     "duration": 0.040578,
     "end_time": "2021-07-20T17:12:56.484693",
     "exception": false,
     "start_time": "2021-07-20T17:12:56.444115",
     "status": "completed"
    },
    "tags": []
   },
   "source": [
    "#### let's consider the analysis date as 2012-01-01 and lets calculate the recency"
   ]
  },
  {
   "cell_type": "code",
   "execution_count": 18,
   "id": "aba25052",
   "metadata": {
    "execution": {
     "iopub.execute_input": "2021-07-20T17:12:56.568986Z",
     "iopub.status.busy": "2021-07-20T17:12:56.568425Z",
     "iopub.status.idle": "2021-07-20T17:12:57.703251Z",
     "shell.execute_reply": "2021-07-20T17:12:57.703760Z",
     "shell.execute_reply.started": "2021-07-20T16:46:45.966832Z"
    },
    "executionInfo": {
     "elapsed": 16,
     "status": "error",
     "timestamp": 1625063625646,
     "user": {
      "displayName": "Arpan Mishra",
      "photoUrl": "https://lh3.googleusercontent.com/a-/AOh14GihMLpEej92c6yUNyzPvE9rll4Qm0syUDdkGaDKug=s64",
      "userId": "18320803433668986305"
     },
     "user_tz": -330
    },
    "id": "800notk5VZbR",
    "outputId": "09a99543-0c64-45e2-83df-7e84f168b848",
    "papermill": {
     "duration": 1.178443,
     "end_time": "2021-07-20T17:12:57.703929",
     "exception": false,
     "start_time": "2021-07-20T17:12:56.525486",
     "status": "completed"
    },
    "tags": []
   },
   "outputs": [],
   "source": [
    "df['no_of_days']= (dt.date(2012,1,1))-df['date']"
   ]
  },
  {
   "cell_type": "code",
   "execution_count": 19,
   "id": "0e5d3282",
   "metadata": {
    "execution": {
     "iopub.execute_input": "2021-07-20T17:12:57.788411Z",
     "iopub.status.busy": "2021-07-20T17:12:57.787868Z",
     "iopub.status.idle": "2021-07-20T17:12:57.800548Z",
     "shell.execute_reply": "2021-07-20T17:12:57.800973Z",
     "shell.execute_reply.started": "2021-07-20T16:46:48.131377Z"
    },
    "id": "0hEfc4CDVZbR",
    "papermill": {
     "duration": 0.056315,
     "end_time": "2021-07-20T17:12:57.801145",
     "exception": false,
     "start_time": "2021-07-20T17:12:57.744830",
     "status": "completed"
    },
    "tags": []
   },
   "outputs": [],
   "source": [
    "df['no_of_days']= df['no_of_days'].astype('timedelta64[D]')"
   ]
  },
  {
   "cell_type": "code",
   "execution_count": 20,
   "id": "f9322f81",
   "metadata": {
    "execution": {
     "iopub.execute_input": "2021-07-20T17:12:57.887141Z",
     "iopub.status.busy": "2021-07-20T17:12:57.886577Z",
     "iopub.status.idle": "2021-07-20T17:12:57.900476Z",
     "shell.execute_reply": "2021-07-20T17:12:57.900907Z",
     "shell.execute_reply.started": "2021-07-20T16:46:48.146039Z"
    },
    "id": "CBBrBoHmVZbR",
    "papermill": {
     "duration": 0.057618,
     "end_time": "2021-07-20T17:12:57.901062",
     "exception": false,
     "start_time": "2021-07-20T17:12:57.843444",
     "status": "completed"
    },
    "tags": []
   },
   "outputs": [
    {
     "data": {
      "text/html": [
       "<div>\n",
       "<style scoped>\n",
       "    .dataframe tbody tr th:only-of-type {\n",
       "        vertical-align: middle;\n",
       "    }\n",
       "\n",
       "    .dataframe tbody tr th {\n",
       "        vertical-align: top;\n",
       "    }\n",
       "\n",
       "    .dataframe thead th {\n",
       "        text-align: right;\n",
       "    }\n",
       "</style>\n",
       "<table border=\"1\" class=\"dataframe\">\n",
       "  <thead>\n",
       "    <tr style=\"text-align: right;\">\n",
       "      <th></th>\n",
       "      <th>StockCode</th>\n",
       "      <th>Description</th>\n",
       "      <th>Quantity</th>\n",
       "      <th>InvoiceDate</th>\n",
       "      <th>UnitPrice</th>\n",
       "      <th>CustomerID</th>\n",
       "      <th>Country</th>\n",
       "      <th>Price</th>\n",
       "      <th>date</th>\n",
       "      <th>no_of_days</th>\n",
       "    </tr>\n",
       "  </thead>\n",
       "  <tbody>\n",
       "    <tr>\n",
       "      <th>0</th>\n",
       "      <td>85123A</td>\n",
       "      <td>whitehanginghearttlightholder</td>\n",
       "      <td>6</td>\n",
       "      <td>12/1/2010 8:26</td>\n",
       "      <td>2.55</td>\n",
       "      <td>17850.0</td>\n",
       "      <td>United Kingdom</td>\n",
       "      <td>15.30</td>\n",
       "      <td>2010-12-01</td>\n",
       "      <td>396.0</td>\n",
       "    </tr>\n",
       "    <tr>\n",
       "      <th>1</th>\n",
       "      <td>71053</td>\n",
       "      <td>whitemetallantern</td>\n",
       "      <td>6</td>\n",
       "      <td>12/1/2010 8:26</td>\n",
       "      <td>3.39</td>\n",
       "      <td>17850.0</td>\n",
       "      <td>United Kingdom</td>\n",
       "      <td>20.34</td>\n",
       "      <td>2010-12-01</td>\n",
       "      <td>396.0</td>\n",
       "    </tr>\n",
       "    <tr>\n",
       "      <th>2</th>\n",
       "      <td>84406B</td>\n",
       "      <td>creamcupidheartscoathanger</td>\n",
       "      <td>8</td>\n",
       "      <td>12/1/2010 8:26</td>\n",
       "      <td>2.75</td>\n",
       "      <td>17850.0</td>\n",
       "      <td>United Kingdom</td>\n",
       "      <td>22.00</td>\n",
       "      <td>2010-12-01</td>\n",
       "      <td>396.0</td>\n",
       "    </tr>\n",
       "    <tr>\n",
       "      <th>3</th>\n",
       "      <td>84029G</td>\n",
       "      <td>knittedunionflaghotwaterbottle</td>\n",
       "      <td>6</td>\n",
       "      <td>12/1/2010 8:26</td>\n",
       "      <td>3.39</td>\n",
       "      <td>17850.0</td>\n",
       "      <td>United Kingdom</td>\n",
       "      <td>20.34</td>\n",
       "      <td>2010-12-01</td>\n",
       "      <td>396.0</td>\n",
       "    </tr>\n",
       "    <tr>\n",
       "      <th>4</th>\n",
       "      <td>84029E</td>\n",
       "      <td>redwoollyhottiewhiteheart</td>\n",
       "      <td>6</td>\n",
       "      <td>12/1/2010 8:26</td>\n",
       "      <td>3.39</td>\n",
       "      <td>17850.0</td>\n",
       "      <td>United Kingdom</td>\n",
       "      <td>20.34</td>\n",
       "      <td>2010-12-01</td>\n",
       "      <td>396.0</td>\n",
       "    </tr>\n",
       "  </tbody>\n",
       "</table>\n",
       "</div>"
      ],
      "text/plain": [
       "  StockCode                     Description  Quantity     InvoiceDate  \\\n",
       "0    85123A   whitehanginghearttlightholder         6  12/1/2010 8:26   \n",
       "1     71053               whitemetallantern         6  12/1/2010 8:26   \n",
       "2    84406B      creamcupidheartscoathanger         8  12/1/2010 8:26   \n",
       "3    84029G  knittedunionflaghotwaterbottle         6  12/1/2010 8:26   \n",
       "4    84029E       redwoollyhottiewhiteheart         6  12/1/2010 8:26   \n",
       "\n",
       "   UnitPrice  CustomerID         Country  Price        date  no_of_days  \n",
       "0       2.55     17850.0  United Kingdom  15.30  2010-12-01       396.0  \n",
       "1       3.39     17850.0  United Kingdom  20.34  2010-12-01       396.0  \n",
       "2       2.75     17850.0  United Kingdom  22.00  2010-12-01       396.0  \n",
       "3       3.39     17850.0  United Kingdom  20.34  2010-12-01       396.0  \n",
       "4       3.39     17850.0  United Kingdom  20.34  2010-12-01       396.0  "
      ]
     },
     "execution_count": 20,
     "metadata": {},
     "output_type": "execute_result"
    }
   ],
   "source": [
    "df.head()"
   ]
  },
  {
   "cell_type": "code",
   "execution_count": 21,
   "id": "ccc97d87",
   "metadata": {
    "execution": {
     "iopub.execute_input": "2021-07-20T17:12:57.986550Z",
     "iopub.status.busy": "2021-07-20T17:12:57.985994Z",
     "iopub.status.idle": "2021-07-20T17:12:58.483170Z",
     "shell.execute_reply": "2021-07-20T17:12:58.481999Z",
     "shell.execute_reply.started": "2021-07-20T16:46:48.165935Z"
    },
    "id": "HpjTtoEaVZbR",
    "papermill": {
     "duration": 0.540978,
     "end_time": "2021-07-20T17:12:58.483316",
     "exception": false,
     "start_time": "2021-07-20T17:12:57.942338",
     "status": "completed"
    },
    "tags": []
   },
   "outputs": [],
   "source": [
    "rfm = df.groupby('CustomerID').agg({'no_of_days': lambda x:x.min(),'CustomerID': lambda x: len(x),'Price': lambda x: x.sum()})     \n",
    "rfm.rename(columns={'no_of_days': 'recency', 'CustomerID': 'frequency', 'Price': 'monetary'}, inplace=True)"
   ]
  },
  {
   "cell_type": "code",
   "execution_count": 22,
   "id": "b7039ff3",
   "metadata": {
    "execution": {
     "iopub.execute_input": "2021-07-20T17:12:58.578140Z",
     "iopub.status.busy": "2021-07-20T17:12:58.577383Z",
     "iopub.status.idle": "2021-07-20T17:12:58.581151Z",
     "shell.execute_reply": "2021-07-20T17:12:58.580742Z",
     "shell.execute_reply.started": "2021-07-20T16:46:48.782556Z"
    },
    "id": "pE9aKf91VZbR",
    "papermill": {
     "duration": 0.055509,
     "end_time": "2021-07-20T17:12:58.581287",
     "exception": false,
     "start_time": "2021-07-20T17:12:58.525778",
     "status": "completed"
    },
    "scrolled": true,
    "tags": []
   },
   "outputs": [
    {
     "data": {
      "text/html": [
       "<div>\n",
       "<style scoped>\n",
       "    .dataframe tbody tr th:only-of-type {\n",
       "        vertical-align: middle;\n",
       "    }\n",
       "\n",
       "    .dataframe tbody tr th {\n",
       "        vertical-align: top;\n",
       "    }\n",
       "\n",
       "    .dataframe thead th {\n",
       "        text-align: right;\n",
       "    }\n",
       "</style>\n",
       "<table border=\"1\" class=\"dataframe\">\n",
       "  <thead>\n",
       "    <tr style=\"text-align: right;\">\n",
       "      <th></th>\n",
       "      <th>recency</th>\n",
       "      <th>frequency</th>\n",
       "      <th>monetary</th>\n",
       "    </tr>\n",
       "    <tr>\n",
       "      <th>CustomerID</th>\n",
       "      <th></th>\n",
       "      <th></th>\n",
       "      <th></th>\n",
       "    </tr>\n",
       "  </thead>\n",
       "  <tbody>\n",
       "    <tr>\n",
       "      <th>12346.0</th>\n",
       "      <td>348.0</td>\n",
       "      <td>2.0</td>\n",
       "      <td>77183.60</td>\n",
       "    </tr>\n",
       "    <tr>\n",
       "      <th>12347.0</th>\n",
       "      <td>25.0</td>\n",
       "      <td>182.0</td>\n",
       "      <td>4310.00</td>\n",
       "    </tr>\n",
       "    <tr>\n",
       "      <th>12348.0</th>\n",
       "      <td>98.0</td>\n",
       "      <td>31.0</td>\n",
       "      <td>1797.24</td>\n",
       "    </tr>\n",
       "    <tr>\n",
       "      <th>12349.0</th>\n",
       "      <td>41.0</td>\n",
       "      <td>73.0</td>\n",
       "      <td>1757.55</td>\n",
       "    </tr>\n",
       "    <tr>\n",
       "      <th>12350.0</th>\n",
       "      <td>333.0</td>\n",
       "      <td>17.0</td>\n",
       "      <td>334.40</td>\n",
       "    </tr>\n",
       "  </tbody>\n",
       "</table>\n",
       "</div>"
      ],
      "text/plain": [
       "            recency  frequency  monetary\n",
       "CustomerID                              \n",
       "12346.0       348.0        2.0  77183.60\n",
       "12347.0        25.0      182.0   4310.00\n",
       "12348.0        98.0       31.0   1797.24\n",
       "12349.0        41.0       73.0   1757.55\n",
       "12350.0       333.0       17.0    334.40"
      ]
     },
     "execution_count": 22,
     "metadata": {},
     "output_type": "execute_result"
    }
   ],
   "source": [
    "rfm.head() #REMOVE ID FROM INDEX"
   ]
  },
  {
   "cell_type": "code",
   "execution_count": 23,
   "id": "c18c0c56",
   "metadata": {
    "execution": {
     "iopub.execute_input": "2021-07-20T17:12:58.671722Z",
     "iopub.status.busy": "2021-07-20T17:12:58.670812Z",
     "iopub.status.idle": "2021-07-20T17:12:58.685587Z",
     "shell.execute_reply": "2021-07-20T17:12:58.686001Z",
     "shell.execute_reply.started": "2021-07-20T16:46:48.797613Z"
    },
    "id": "mzS0AF76VZbS",
    "papermill": {
     "duration": 0.063016,
     "end_time": "2021-07-20T17:12:58.686155",
     "exception": false,
     "start_time": "2021-07-20T17:12:58.623139",
     "status": "completed"
    },
    "tags": []
   },
   "outputs": [
    {
     "data": {
      "text/html": [
       "<div>\n",
       "<style scoped>\n",
       "    .dataframe tbody tr th:only-of-type {\n",
       "        vertical-align: middle;\n",
       "    }\n",
       "\n",
       "    .dataframe tbody tr th {\n",
       "        vertical-align: top;\n",
       "    }\n",
       "\n",
       "    .dataframe thead th {\n",
       "        text-align: right;\n",
       "    }\n",
       "</style>\n",
       "<table border=\"1\" class=\"dataframe\">\n",
       "  <thead>\n",
       "    <tr style=\"text-align: right;\">\n",
       "      <th></th>\n",
       "      <th>recency</th>\n",
       "      <th>frequency</th>\n",
       "      <th>monetary</th>\n",
       "    </tr>\n",
       "  </thead>\n",
       "  <tbody>\n",
       "    <tr>\n",
       "      <th>count</th>\n",
       "      <td>4372.000000</td>\n",
       "      <td>4372.000000</td>\n",
       "      <td>4372.000000</td>\n",
       "    </tr>\n",
       "    <tr>\n",
       "      <th>mean</th>\n",
       "      <td>114.581199</td>\n",
       "      <td>93.053294</td>\n",
       "      <td>2038.290920</td>\n",
       "    </tr>\n",
       "    <tr>\n",
       "      <th>std</th>\n",
       "      <td>100.772139</td>\n",
       "      <td>232.471608</td>\n",
       "      <td>8956.019171</td>\n",
       "    </tr>\n",
       "    <tr>\n",
       "      <th>min</th>\n",
       "      <td>23.000000</td>\n",
       "      <td>1.000000</td>\n",
       "      <td>0.000000</td>\n",
       "    </tr>\n",
       "    <tr>\n",
       "      <th>25%</th>\n",
       "      <td>39.000000</td>\n",
       "      <td>17.000000</td>\n",
       "      <td>303.602500</td>\n",
       "    </tr>\n",
       "    <tr>\n",
       "      <th>50%</th>\n",
       "      <td>73.000000</td>\n",
       "      <td>42.000000</td>\n",
       "      <td>665.315000</td>\n",
       "    </tr>\n",
       "    <tr>\n",
       "      <th>75%</th>\n",
       "      <td>166.000000</td>\n",
       "      <td>102.000000</td>\n",
       "      <td>1652.790000</td>\n",
       "    </tr>\n",
       "    <tr>\n",
       "      <th>max</th>\n",
       "      <td>396.000000</td>\n",
       "      <td>7983.000000</td>\n",
       "      <td>280206.020000</td>\n",
       "    </tr>\n",
       "  </tbody>\n",
       "</table>\n",
       "</div>"
      ],
      "text/plain": [
       "           recency    frequency       monetary\n",
       "count  4372.000000  4372.000000    4372.000000\n",
       "mean    114.581199    93.053294    2038.290920\n",
       "std     100.772139   232.471608    8956.019171\n",
       "min      23.000000     1.000000       0.000000\n",
       "25%      39.000000    17.000000     303.602500\n",
       "50%      73.000000    42.000000     665.315000\n",
       "75%     166.000000   102.000000    1652.790000\n",
       "max     396.000000  7983.000000  280206.020000"
      ]
     },
     "execution_count": 23,
     "metadata": {},
     "output_type": "execute_result"
    }
   ],
   "source": [
    "rfm.describe()"
   ]
  },
  {
   "cell_type": "markdown",
   "id": "ebbae497",
   "metadata": {
    "id": "4aLdhXbeVZbS",
    "papermill": {
     "duration": 0.042413,
     "end_time": "2021-07-20T17:12:58.770666",
     "exception": false,
     "start_time": "2021-07-20T17:12:58.728253",
     "status": "completed"
    },
    "tags": []
   },
   "source": [
    "### The scores are given as follows: for frequency and monetary 1 is the lowest and 4 the highest while for recency it is the opposite"
   ]
  },
  {
   "cell_type": "markdown",
   "id": "748c1b29",
   "metadata": {
    "id": "_JTUu7wZVZbS",
    "papermill": {
     "duration": 0.043182,
     "end_time": "2021-07-20T17:12:58.856504",
     "exception": false,
     "start_time": "2021-07-20T17:12:58.813322",
     "status": "completed"
    },
    "tags": []
   },
   "source": [
    "### Recency"
   ]
  },
  {
   "cell_type": "code",
   "execution_count": 24,
   "id": "8d598158",
   "metadata": {
    "execution": {
     "iopub.execute_input": "2021-07-20T17:12:58.945429Z",
     "iopub.status.busy": "2021-07-20T17:12:58.944515Z",
     "iopub.status.idle": "2021-07-20T17:12:58.955703Z",
     "shell.execute_reply": "2021-07-20T17:12:58.956117Z",
     "shell.execute_reply.started": "2021-07-20T16:46:48.828531Z"
    },
    "id": "o3xT0lQVVZbS",
    "papermill": {
     "duration": 0.057212,
     "end_time": "2021-07-20T17:12:58.956290",
     "exception": false,
     "start_time": "2021-07-20T17:12:58.899078",
     "status": "completed"
    },
    "tags": []
   },
   "outputs": [],
   "source": [
    "rfm[\"recency_score\"] = pd.cut(rfm[\"recency\"], bins=[-1,np.percentile(rfm[\"recency\"], 25),np.percentile(rfm[\"recency\"], 50), \n",
    "                                             np.percentile(rfm[\"recency\"], 75),rfm[\"recency\"].max()],labels=[4, 3, 2, 1]).astype(\"int\")"
   ]
  },
  {
   "cell_type": "markdown",
   "id": "07c51bbe",
   "metadata": {
    "id": "thzp0rNtVZbS",
    "papermill": {
     "duration": 0.042226,
     "end_time": "2021-07-20T17:12:59.041457",
     "exception": false,
     "start_time": "2021-07-20T17:12:58.999231",
     "status": "completed"
    },
    "tags": []
   },
   "source": [
    "### Frequency"
   ]
  },
  {
   "cell_type": "code",
   "execution_count": 25,
   "id": "0d8c75c6",
   "metadata": {
    "execution": {
     "iopub.execute_input": "2021-07-20T17:12:59.130448Z",
     "iopub.status.busy": "2021-07-20T17:12:59.129472Z",
     "iopub.status.idle": "2021-07-20T17:12:59.137689Z",
     "shell.execute_reply": "2021-07-20T17:12:59.138122Z",
     "shell.execute_reply.started": "2021-07-20T16:46:48.840802Z"
    },
    "id": "grOUxAVqVZbS",
    "papermill": {
     "duration": 0.054584,
     "end_time": "2021-07-20T17:12:59.138294",
     "exception": false,
     "start_time": "2021-07-20T17:12:59.083710",
     "status": "completed"
    },
    "tags": []
   },
   "outputs": [],
   "source": [
    "rfm[\"frequency_score\"] = pd.cut(rfm[\"frequency\"], bins=[-1,np.percentile(rfm[\"frequency\"], 25),np.percentile(rfm[\"frequency\"], 50), \n",
    "                                             np.percentile(rfm[\"frequency\"], 75),rfm[\"frequency\"].max()],labels=[1, 2, 3, 4]).astype(\"int\")"
   ]
  },
  {
   "cell_type": "markdown",
   "id": "9e59d31e",
   "metadata": {
    "id": "5GlEAJ_1VZbS",
    "papermill": {
     "duration": 0.041857,
     "end_time": "2021-07-20T17:12:59.222386",
     "exception": false,
     "start_time": "2021-07-20T17:12:59.180529",
     "status": "completed"
    },
    "tags": []
   },
   "source": [
    "### Monetary"
   ]
  },
  {
   "cell_type": "code",
   "execution_count": 26,
   "id": "63c6fa51",
   "metadata": {
    "execution": {
     "iopub.execute_input": "2021-07-20T17:12:59.311862Z",
     "iopub.status.busy": "2021-07-20T17:12:59.310973Z",
     "iopub.status.idle": "2021-07-20T17:12:59.318715Z",
     "shell.execute_reply": "2021-07-20T17:12:59.319094Z",
     "shell.execute_reply.started": "2021-07-20T16:46:48.855009Z"
    },
    "id": "5L5AAiR8VZbS",
    "papermill": {
     "duration": 0.054596,
     "end_time": "2021-07-20T17:12:59.319255",
     "exception": false,
     "start_time": "2021-07-20T17:12:59.264659",
     "status": "completed"
    },
    "tags": []
   },
   "outputs": [],
   "source": [
    "rfm[\"monetary_score\"] = pd.cut(rfm[\"monetary\"], bins=[-1,np.percentile(rfm[\"monetary\"], 25),np.percentile(rfm[\"monetary\"], 50), \n",
    "                                             np.percentile(rfm[\"monetary\"], 75),rfm[\"monetary\"].max()],labels=[1, 2, 3, 4])"
   ]
  },
  {
   "cell_type": "code",
   "execution_count": 27,
   "id": "a0ddbcb2",
   "metadata": {
    "execution": {
     "iopub.execute_input": "2021-07-20T17:12:59.406970Z",
     "iopub.status.busy": "2021-07-20T17:12:59.406113Z",
     "iopub.status.idle": "2021-07-20T17:12:59.418729Z",
     "shell.execute_reply": "2021-07-20T17:12:59.419108Z",
     "shell.execute_reply.started": "2021-07-20T16:46:48.869352Z"
    },
    "id": "y8uqhjXuVZbS",
    "outputId": "ab544853-9924-4a0b-c77c-8554774d07bd",
    "papermill": {
     "duration": 0.058313,
     "end_time": "2021-07-20T17:12:59.419269",
     "exception": false,
     "start_time": "2021-07-20T17:12:59.360956",
     "status": "completed"
    },
    "scrolled": true,
    "tags": []
   },
   "outputs": [
    {
     "data": {
      "text/html": [
       "<div>\n",
       "<style scoped>\n",
       "    .dataframe tbody tr th:only-of-type {\n",
       "        vertical-align: middle;\n",
       "    }\n",
       "\n",
       "    .dataframe tbody tr th {\n",
       "        vertical-align: top;\n",
       "    }\n",
       "\n",
       "    .dataframe thead th {\n",
       "        text-align: right;\n",
       "    }\n",
       "</style>\n",
       "<table border=\"1\" class=\"dataframe\">\n",
       "  <thead>\n",
       "    <tr style=\"text-align: right;\">\n",
       "      <th></th>\n",
       "      <th>recency</th>\n",
       "      <th>frequency</th>\n",
       "      <th>monetary</th>\n",
       "      <th>recency_score</th>\n",
       "      <th>frequency_score</th>\n",
       "      <th>monetary_score</th>\n",
       "    </tr>\n",
       "    <tr>\n",
       "      <th>CustomerID</th>\n",
       "      <th></th>\n",
       "      <th></th>\n",
       "      <th></th>\n",
       "      <th></th>\n",
       "      <th></th>\n",
       "      <th></th>\n",
       "    </tr>\n",
       "  </thead>\n",
       "  <tbody>\n",
       "    <tr>\n",
       "      <th>12346.0</th>\n",
       "      <td>348.0</td>\n",
       "      <td>2.0</td>\n",
       "      <td>77183.60</td>\n",
       "      <td>1</td>\n",
       "      <td>1</td>\n",
       "      <td>4</td>\n",
       "    </tr>\n",
       "    <tr>\n",
       "      <th>12347.0</th>\n",
       "      <td>25.0</td>\n",
       "      <td>182.0</td>\n",
       "      <td>4310.00</td>\n",
       "      <td>4</td>\n",
       "      <td>4</td>\n",
       "      <td>4</td>\n",
       "    </tr>\n",
       "    <tr>\n",
       "      <th>12348.0</th>\n",
       "      <td>98.0</td>\n",
       "      <td>31.0</td>\n",
       "      <td>1797.24</td>\n",
       "      <td>2</td>\n",
       "      <td>2</td>\n",
       "      <td>4</td>\n",
       "    </tr>\n",
       "    <tr>\n",
       "      <th>12349.0</th>\n",
       "      <td>41.0</td>\n",
       "      <td>73.0</td>\n",
       "      <td>1757.55</td>\n",
       "      <td>3</td>\n",
       "      <td>3</td>\n",
       "      <td>4</td>\n",
       "    </tr>\n",
       "    <tr>\n",
       "      <th>12350.0</th>\n",
       "      <td>333.0</td>\n",
       "      <td>17.0</td>\n",
       "      <td>334.40</td>\n",
       "      <td>1</td>\n",
       "      <td>1</td>\n",
       "      <td>2</td>\n",
       "    </tr>\n",
       "  </tbody>\n",
       "</table>\n",
       "</div>"
      ],
      "text/plain": [
       "            recency  frequency  monetary  recency_score  frequency_score  \\\n",
       "CustomerID                                                                 \n",
       "12346.0       348.0        2.0  77183.60              1                1   \n",
       "12347.0        25.0      182.0   4310.00              4                4   \n",
       "12348.0        98.0       31.0   1797.24              2                2   \n",
       "12349.0        41.0       73.0   1757.55              3                3   \n",
       "12350.0       333.0       17.0    334.40              1                1   \n",
       "\n",
       "           monetary_score  \n",
       "CustomerID                 \n",
       "12346.0                 4  \n",
       "12347.0                 4  \n",
       "12348.0                 4  \n",
       "12349.0                 4  \n",
       "12350.0                 2  "
      ]
     },
     "execution_count": 27,
     "metadata": {},
     "output_type": "execute_result"
    }
   ],
   "source": [
    "rfm.head()"
   ]
  },
  {
   "cell_type": "markdown",
   "id": "a962737d",
   "metadata": {
    "id": "nOC2_RSPVZbS",
    "papermill": {
     "duration": 0.042175,
     "end_time": "2021-07-20T17:12:59.504080",
     "exception": false,
     "start_time": "2021-07-20T17:12:59.461905",
     "status": "completed"
    },
    "tags": []
   },
   "source": [
    "### Creating RFM class and Customer Segments"
   ]
  },
  {
   "cell_type": "code",
   "execution_count": 28,
   "id": "df64c7f8",
   "metadata": {
    "execution": {
     "iopub.execute_input": "2021-07-20T17:12:59.592086Z",
     "iopub.status.busy": "2021-07-20T17:12:59.591240Z",
     "iopub.status.idle": "2021-07-20T17:12:59.595828Z",
     "shell.execute_reply": "2021-07-20T17:12:59.596236Z",
     "shell.execute_reply.started": "2021-07-20T16:46:48.891954Z"
    },
    "id": "9rxn2_GOVZbT",
    "papermill": {
     "duration": 0.049878,
     "end_time": "2021-07-20T17:12:59.596415",
     "exception": false,
     "start_time": "2021-07-20T17:12:59.546537",
     "status": "completed"
    },
    "tags": []
   },
   "outputs": [],
   "source": [
    "rfm['RFMClass']=0\n",
    "rfm['Customer_Seg']=''"
   ]
  },
  {
   "cell_type": "code",
   "execution_count": 29,
   "id": "62909907",
   "metadata": {
    "execution": {
     "iopub.execute_input": "2021-07-20T17:12:59.684574Z",
     "iopub.status.busy": "2021-07-20T17:12:59.683694Z",
     "iopub.status.idle": "2021-07-20T17:13:00.177131Z",
     "shell.execute_reply": "2021-07-20T17:13:00.177585Z",
     "shell.execute_reply.started": "2021-07-20T16:46:48.903194Z"
    },
    "id": "R6sGxa7rVZbT",
    "outputId": "f4cff1ff-2adb-4b4a-ba42-badca2e4d7d2",
    "papermill": {
     "duration": 0.538893,
     "end_time": "2021-07-20T17:13:00.177764",
     "exception": false,
     "start_time": "2021-07-20T17:12:59.638871",
     "status": "completed"
    },
    "tags": []
   },
   "outputs": [
    {
     "name": "stderr",
     "output_type": "stream",
     "text": [
      "/opt/conda/lib/python3.7/site-packages/ipykernel_launcher.py:3: SettingWithCopyWarning: \n",
      "A value is trying to be set on a copy of a slice from a DataFrame\n",
      "\n",
      "See the caveats in the documentation: https://pandas.pydata.org/pandas-docs/stable/user_guide/indexing.html#returning-a-view-versus-a-copy\n",
      "  This is separate from the ipykernel package so we can avoid doing imports until\n"
     ]
    }
   ],
   "source": [
    "j=0\n",
    "while j <= (len(rfm)-1):\n",
    "    rfm['RFMClass'][j]= ((rfm['recency_score'].iloc[j])*100)+((rfm['frequency_score'].iloc[j])*10)+(rfm['monetary_score'].iloc[j])\n",
    "    j+=1"
   ]
  },
  {
   "cell_type": "code",
   "execution_count": 30,
   "id": "d3aac32f",
   "metadata": {
    "execution": {
     "iopub.execute_input": "2021-07-20T17:13:00.267379Z",
     "iopub.status.busy": "2021-07-20T17:13:00.266465Z",
     "iopub.status.idle": "2021-07-20T17:13:00.276681Z",
     "shell.execute_reply": "2021-07-20T17:13:00.276033Z",
     "shell.execute_reply.started": "2021-07-20T16:49:02.686681Z"
    },
    "papermill": {
     "duration": 0.056159,
     "end_time": "2021-07-20T17:13:00.276823",
     "exception": false,
     "start_time": "2021-07-20T17:13:00.220664",
     "status": "completed"
    },
    "tags": []
   },
   "outputs": [],
   "source": [
    "from tabulate import tabulate"
   ]
  },
  {
   "cell_type": "code",
   "execution_count": 31,
   "id": "0dd01486",
   "metadata": {
    "execution": {
     "iopub.execute_input": "2021-07-20T17:13:00.373517Z",
     "iopub.status.busy": "2021-07-20T17:13:00.372816Z",
     "iopub.status.idle": "2021-07-20T17:13:00.376102Z",
     "shell.execute_reply": "2021-07-20T17:13:00.376578Z",
     "shell.execute_reply.started": "2021-07-20T17:08:56.943717Z"
    },
    "papermill": {
     "duration": 0.056663,
     "end_time": "2021-07-20T17:13:00.376736",
     "exception": false,
     "start_time": "2021-07-20T17:13:00.320073",
     "status": "completed"
    },
    "tags": []
   },
   "outputs": [
    {
     "name": "stdout",
     "output_type": "stream",
     "text": [
      "Customer Segmentation: \n",
      "╒═════╤═════╤══════════════════╤══════════════════╤══════════════╤══════════════╕\n",
      "│ R   │   M │ F1               │ F2               │ F3           │ F4           │\n",
      "╞═════╪═════╪══════════════════╪══════════════════╪══════════════╪══════════════╡\n",
      "│ 4   │   4 │ Unsteady         │ Active           │ Top customer │ Top customer │\n",
      "├─────┼─────┼──────────────────┼──────────────────┼──────────────┼──────────────┤\n",
      "│     │   3 │ Unsteady         │ Active           │ Top customer │ Top customer │\n",
      "├─────┼─────┼──────────────────┼──────────────────┼──────────────┼──────────────┤\n",
      "│     │   2 │ Unsteady         │ Active           │ Active       │ Active       │\n",
      "├─────┼─────┼──────────────────┼──────────────────┼──────────────┼──────────────┤\n",
      "│     │   1 │ Unsteady         │ Active           │ Active       │ Active       │\n",
      "├─────┼─────┼──────────────────┼──────────────────┼──────────────┼──────────────┤\n",
      "│ 3   │   4 │ Unsteady         │ Emerging         │ Emerging     │ Emerging     │\n",
      "├─────┼─────┼──────────────────┼──────────────────┼──────────────┼──────────────┤\n",
      "│     │   3 │ Unsteady         │ Emerging         │ Emerging     │ Emerging     │\n",
      "├─────┼─────┼──────────────────┼──────────────────┼──────────────┼──────────────┤\n",
      "│     │   2 │ Unsteady         │ Unsteady         │ Unsteady     │ Unsteady     │\n",
      "├─────┼─────┼──────────────────┼──────────────────┼──────────────┼──────────────┤\n",
      "│     │   1 │ Unsteady         │ Unsteady         │ Unsteady     │ Unsteady     │\n",
      "├─────┼─────┼──────────────────┼──────────────────┼──────────────┼──────────────┤\n",
      "│ 2   │   4 │ At risk          │ At risk          │ At risk      │ At risk      │\n",
      "├─────┼─────┼──────────────────┼──────────────────┼──────────────┼──────────────┤\n",
      "│     │   3 │ At risk          │ At risk          │ At risk      │ At risk      │\n",
      "├─────┼─────┼──────────────────┼──────────────────┼──────────────┼──────────────┤\n",
      "│     │   2 │ Potentially lost │ Potentially lost │ At risk      │ At risk      │\n",
      "├─────┼─────┼──────────────────┼──────────────────┼──────────────┼──────────────┤\n",
      "│     │   2 │ Potentially lost │ Potentially lost │ At risk      │ At risk      │\n",
      "├─────┼─────┼──────────────────┼──────────────────┼──────────────┼──────────────┤\n",
      "│     │   1 │ Potentially lost │ Potentially lost │ At risk      │ At risk      │\n",
      "├─────┼─────┼──────────────────┼──────────────────┼──────────────┼──────────────┤\n",
      "│ 1   │   4 │ Inactive         │ Inactive         │ At risk      │ At risk      │\n",
      "├─────┼─────┼──────────────────┼──────────────────┼──────────────┼──────────────┤\n",
      "│     │   3 │ Inactive         │ Inactive         │ At risk      │ At risk      │\n",
      "├─────┼─────┼──────────────────┼──────────────────┼──────────────┼──────────────┤\n",
      "│     │   2 │ Lost             │ Lost             │ At risk      │ At risk      │\n",
      "├─────┼─────┼──────────────────┼──────────────────┼──────────────┼──────────────┤\n",
      "│     │   1 │ Lost             │ Lost             │ At risk      │ At risk      │\n",
      "╘═════╧═════╧══════════════════╧══════════════════╧══════════════╧══════════════╛\n"
     ]
    }
   ],
   "source": [
    "table= [['R','M','F1','F2','F3','F4'],['4','4','Unsteady','Active','Top customer','Top customer'],[' ','3','Unsteady','Active','Top customer','Top customer'],\n",
    "       [' ','2','Unsteady','Active','Active','Active'],[' ','1','Unsteady','Active','Active','Active'],['3','4','Unsteady','Emerging','Emerging','Emerging'],\n",
    "       [' ','3','Unsteady','Emerging','Emerging','Emerging'],[' ','2','Unsteady','Unsteady','Unsteady','Unsteady'],[' ','1','Unsteady','Unsteady','Unsteady','Unsteady'],\n",
    "       ['2','4','At risk','At risk','At risk','At risk'],[' ',3,'At risk','At risk','At risk','At risk'],[' ','2','Potentially lost','Potentially lost','At risk','At risk'],\n",
    "       [' ','2','Potentially lost','Potentially lost','At risk','At risk'],[' ','1','Potentially lost','Potentially lost','At risk','At risk'],\n",
    "       ['1','4','Inactive','Inactive','At risk','At risk'],[' ','3','Inactive','Inactive','At risk','At risk'],[' ','2','Lost','Lost','At risk','At risk'],\n",
    "       [' ','1','Lost','Lost','At risk','At risk']]\n",
    "print('Customer Segmentation: ')\n",
    "print(tabulate(table,headers='firstrow', tablefmt='fancy_grid'))"
   ]
  },
  {
   "cell_type": "code",
   "execution_count": 32,
   "id": "8dd6c038",
   "metadata": {
    "execution": {
     "iopub.execute_input": "2021-07-20T17:13:00.477276Z",
     "iopub.status.busy": "2021-07-20T17:13:00.476653Z",
     "iopub.status.idle": "2021-07-20T17:13:01.596549Z",
     "shell.execute_reply": "2021-07-20T17:13:01.596049Z",
     "shell.execute_reply.started": "2021-07-20T16:46:49.472067Z"
    },
    "id": "j2oRXhgHVZbT",
    "papermill": {
     "duration": 1.176037,
     "end_time": "2021-07-20T17:13:01.596704",
     "exception": false,
     "start_time": "2021-07-20T17:13:00.420667",
     "status": "completed"
    },
    "tags": []
   },
   "outputs": [
    {
     "name": "stderr",
     "output_type": "stream",
     "text": [
      "/opt/conda/lib/python3.7/site-packages/pandas/core/indexing.py:1637: SettingWithCopyWarning: \n",
      "A value is trying to be set on a copy of a slice from a DataFrame\n",
      "\n",
      "See the caveats in the documentation: https://pandas.pydata.org/pandas-docs/stable/user_guide/indexing.html#returning-a-view-versus-a-copy\n",
      "  self._setitem_single_block(indexer, value, name)\n"
     ]
    }
   ],
   "source": [
    "k=0\n",
    "while k <= (len(rfm)-1):\n",
    "    if rfm['recency_score'].iloc[k]== 4 and rfm['frequency_score'].iloc[k]>=3 and  rfm['monetary_score'].iloc[k]>=3:\n",
    "        rfm['Customer_Seg'].iloc[k]= 'Top Customers'\n",
    "    elif rfm['recency_score'].iloc[k]== 4 and rfm['frequency_score'].iloc[k]>=1 and  rfm['monetary_score'].iloc[k]>=1:\n",
    "        rfm['Customer_Seg'].iloc[k]= 'Active Customers'\n",
    "    elif rfm['recency_score'].iloc[k]== 3 and rfm['frequency_score'].iloc[k]>=2 and  rfm['monetary_score'].iloc[k]>=3:\n",
    "        rfm['Customer_Seg'].iloc[k]= 'Emerging Customers'\n",
    "    elif rfm['recency_score'].iloc[k]>= 3 and rfm['frequency_score'].iloc[k]==1 and  rfm['monetary_score'].iloc[k]>=1:\n",
    "        rfm['Customer_Seg'].iloc[k]= 'Unsteady Customers'\n",
    "    elif rfm['recency_score'].iloc[k]== 3 and rfm['frequency_score'].iloc[k]>=2 and  rfm['monetary_score'].iloc[k]<=2:\n",
    "        rfm['Customer_Seg'].iloc[k]= 'Unsteady Customers'\n",
    "    elif rfm['recency_score'].iloc[k]== 2 and rfm['frequency_score'].iloc[k]>=1 and  rfm['monetary_score'].iloc[k]>=3:\n",
    "        rfm['Customer_Seg'].iloc[k]= 'At Risk'\n",
    "    elif rfm['recency_score'].iloc[k]== 2 and rfm['frequency_score'].iloc[k]>=3 and  rfm['monetary_score'].iloc[k]<=2:\n",
    "        rfm['Customer_Seg'].iloc[k]= 'At Risk'\n",
    "    elif rfm['recency_score'].iloc[k]== 1 and rfm['frequency_score'].iloc[k]>=3 and  rfm['monetary_score'].iloc[k]>=1:\n",
    "        rfm['Customer_Seg'].iloc[k]= 'At Risk'\n",
    "    elif rfm['recency_score'].iloc[k]== 2 and rfm['frequency_score'].iloc[k]<=2 and  rfm['monetary_score'].iloc[k]<=2:\n",
    "        rfm['Customer_Seg'].iloc[k]= 'Potentially lost'\n",
    "    elif rfm['recency_score'].iloc[k]== 1 and rfm['frequency_score'].iloc[k]<=2 and  rfm['monetary_score'].iloc[k]>=3:\n",
    "        rfm['Customer_Seg'].iloc[k]= 'Inactive Customers'\n",
    "    elif rfm['recency_score'].iloc[k]== 1 and rfm['frequency_score'].iloc[k]<=2 and  rfm['monetary_score'].iloc[k]<=2:\n",
    "        rfm['Customer_Seg'].iloc[k]= 'Lost'\n",
    "    else:\n",
    "        rfm['Customer_Seg'].iloc[k]= 'Uncategorized'\n",
    "    k+=1       \n",
    "       "
   ]
  },
  {
   "cell_type": "code",
   "execution_count": 33,
   "id": "8e118695",
   "metadata": {
    "execution": {
     "iopub.execute_input": "2021-07-20T17:13:01.698904Z",
     "iopub.status.busy": "2021-07-20T17:13:01.698247Z",
     "iopub.status.idle": "2021-07-20T17:13:01.700767Z",
     "shell.execute_reply": "2021-07-20T17:13:01.701145Z",
     "shell.execute_reply.started": "2021-07-20T16:46:50.801172Z"
    },
    "id": "3_Q2JBYJVZbU",
    "outputId": "1589497d-6a27-423a-8a80-60fb13a281d9",
    "papermill": {
     "duration": 0.060571,
     "end_time": "2021-07-20T17:13:01.701305",
     "exception": false,
     "start_time": "2021-07-20T17:13:01.640734",
     "status": "completed"
    },
    "tags": []
   },
   "outputs": [
    {
     "data": {
      "text/html": [
       "<div>\n",
       "<style scoped>\n",
       "    .dataframe tbody tr th:only-of-type {\n",
       "        vertical-align: middle;\n",
       "    }\n",
       "\n",
       "    .dataframe tbody tr th {\n",
       "        vertical-align: top;\n",
       "    }\n",
       "\n",
       "    .dataframe thead th {\n",
       "        text-align: right;\n",
       "    }\n",
       "</style>\n",
       "<table border=\"1\" class=\"dataframe\">\n",
       "  <thead>\n",
       "    <tr style=\"text-align: right;\">\n",
       "      <th></th>\n",
       "      <th>recency</th>\n",
       "      <th>frequency</th>\n",
       "      <th>monetary</th>\n",
       "      <th>recency_score</th>\n",
       "      <th>frequency_score</th>\n",
       "      <th>monetary_score</th>\n",
       "      <th>RFMClass</th>\n",
       "      <th>Customer_Seg</th>\n",
       "    </tr>\n",
       "    <tr>\n",
       "      <th>CustomerID</th>\n",
       "      <th></th>\n",
       "      <th></th>\n",
       "      <th></th>\n",
       "      <th></th>\n",
       "      <th></th>\n",
       "      <th></th>\n",
       "      <th></th>\n",
       "      <th></th>\n",
       "    </tr>\n",
       "  </thead>\n",
       "  <tbody>\n",
       "    <tr>\n",
       "      <th>12346.0</th>\n",
       "      <td>348.0</td>\n",
       "      <td>2.0</td>\n",
       "      <td>77183.60</td>\n",
       "      <td>1</td>\n",
       "      <td>1</td>\n",
       "      <td>4</td>\n",
       "      <td>114</td>\n",
       "      <td>Inactive Customers</td>\n",
       "    </tr>\n",
       "    <tr>\n",
       "      <th>12347.0</th>\n",
       "      <td>25.0</td>\n",
       "      <td>182.0</td>\n",
       "      <td>4310.00</td>\n",
       "      <td>4</td>\n",
       "      <td>4</td>\n",
       "      <td>4</td>\n",
       "      <td>444</td>\n",
       "      <td>Top Customers</td>\n",
       "    </tr>\n",
       "    <tr>\n",
       "      <th>12348.0</th>\n",
       "      <td>98.0</td>\n",
       "      <td>31.0</td>\n",
       "      <td>1797.24</td>\n",
       "      <td>2</td>\n",
       "      <td>2</td>\n",
       "      <td>4</td>\n",
       "      <td>224</td>\n",
       "      <td>At Risk</td>\n",
       "    </tr>\n",
       "    <tr>\n",
       "      <th>12349.0</th>\n",
       "      <td>41.0</td>\n",
       "      <td>73.0</td>\n",
       "      <td>1757.55</td>\n",
       "      <td>3</td>\n",
       "      <td>3</td>\n",
       "      <td>4</td>\n",
       "      <td>334</td>\n",
       "      <td>Emerging Customers</td>\n",
       "    </tr>\n",
       "    <tr>\n",
       "      <th>12350.0</th>\n",
       "      <td>333.0</td>\n",
       "      <td>17.0</td>\n",
       "      <td>334.40</td>\n",
       "      <td>1</td>\n",
       "      <td>1</td>\n",
       "      <td>2</td>\n",
       "      <td>112</td>\n",
       "      <td>Lost</td>\n",
       "    </tr>\n",
       "  </tbody>\n",
       "</table>\n",
       "</div>"
      ],
      "text/plain": [
       "            recency  frequency  monetary  recency_score  frequency_score  \\\n",
       "CustomerID                                                                 \n",
       "12346.0       348.0        2.0  77183.60              1                1   \n",
       "12347.0        25.0      182.0   4310.00              4                4   \n",
       "12348.0        98.0       31.0   1797.24              2                2   \n",
       "12349.0        41.0       73.0   1757.55              3                3   \n",
       "12350.0       333.0       17.0    334.40              1                1   \n",
       "\n",
       "           monetary_score  RFMClass        Customer_Seg  \n",
       "CustomerID                                               \n",
       "12346.0                 4       114  Inactive Customers  \n",
       "12347.0                 4       444       Top Customers  \n",
       "12348.0                 4       224             At Risk  \n",
       "12349.0                 4       334  Emerging Customers  \n",
       "12350.0                 2       112                Lost  "
      ]
     },
     "execution_count": 33,
     "metadata": {},
     "output_type": "execute_result"
    }
   ],
   "source": [
    "rfm.head()"
   ]
  },
  {
   "cell_type": "code",
   "execution_count": 34,
   "id": "8becb054",
   "metadata": {
    "execution": {
     "iopub.execute_input": "2021-07-20T17:13:01.793649Z",
     "iopub.status.busy": "2021-07-20T17:13:01.793077Z",
     "iopub.status.idle": "2021-07-20T17:13:01.801060Z",
     "shell.execute_reply": "2021-07-20T17:13:01.800597Z",
     "shell.execute_reply.started": "2021-07-20T16:46:50.820885Z"
    },
    "id": "RVIbOGQDVZbU",
    "outputId": "201c497e-6ce9-4f56-8c26-31f0fb08e070",
    "papermill": {
     "duration": 0.054426,
     "end_time": "2021-07-20T17:13:01.801187",
     "exception": false,
     "start_time": "2021-07-20T17:13:01.746761",
     "status": "completed"
    },
    "tags": []
   },
   "outputs": [
    {
     "data": {
      "text/plain": [
       "Customer_Seg\n",
       "Active Customers      325\n",
       "At Risk               793\n",
       "Emerging Customers    624\n",
       "Inactive Customers     72\n",
       "Lost                  805\n",
       "Potentially lost      479\n",
       "Top Customers         771\n",
       "Unsteady Customers    503\n",
       "Name: RFMClass, dtype: int64"
      ]
     },
     "execution_count": 34,
     "metadata": {},
     "output_type": "execute_result"
    }
   ],
   "source": [
    "data = rfm.groupby(\"Customer_Seg\")[\"RFMClass\"].count()\n",
    "data"
   ]
  },
  {
   "cell_type": "code",
   "execution_count": 35,
   "id": "e7d250f5",
   "metadata": {
    "execution": {
     "iopub.execute_input": "2021-07-20T17:13:01.908973Z",
     "iopub.status.busy": "2021-07-20T17:13:01.908281Z",
     "iopub.status.idle": "2021-07-20T17:13:02.109905Z",
     "shell.execute_reply": "2021-07-20T17:13:02.109323Z",
     "shell.execute_reply.started": "2021-07-20T16:46:50.835971Z"
    },
    "id": "UzeZ7E2VVZbU",
    "outputId": "a43102d2-df75-4028-c803-6b04e57523cb",
    "papermill": {
     "duration": 0.264231,
     "end_time": "2021-07-20T17:13:02.110036",
     "exception": false,
     "start_time": "2021-07-20T17:13:01.845805",
     "status": "completed"
    },
    "tags": []
   },
   "outputs": [
    {
     "data": {
      "text/plain": [
       "<AxesSubplot:ylabel='RFMClass'>"
      ]
     },
     "execution_count": 35,
     "metadata": {},
     "output_type": "execute_result"
    },
    {
     "data": {
      "image/png": "[encoded data removed]",
      "text/plain": [
       "<Figure size 720x720 with 1 Axes>"
      ]
     },
     "metadata": {},
     "output_type": "display_data"
    }
   ],
   "source": [
    "sns.set_context(\"notebook\", font_scale=1.0, rc={\"lines.linewidth\": 2.5})\n",
    "plt.subplots(figsize=(10,10))\n",
    "data.plot.pie(autopct=\"%.1f%%\")"
   ]
  },
  {
   "cell_type": "markdown",
   "id": "0a6e83fe",
   "metadata": {
    "id": "hbOBjRZiVZbU",
    "papermill": {
     "duration": 0.04581,
     "end_time": "2021-07-20T17:13:02.202877",
     "exception": false,
     "start_time": "2021-07-20T17:13:02.157067",
     "status": "completed"
    },
    "tags": []
   },
   "source": [
    "### Observation:\n",
    "Significant number of customers have been lost amd are at Risk"
   ]
  },
  {
   "cell_type": "code",
   "execution_count": 36,
   "id": "ff6da4be",
   "metadata": {
    "execution": {
     "iopub.execute_input": "2021-07-20T17:13:02.316777Z",
     "iopub.status.busy": "2021-07-20T17:13:02.314318Z",
     "iopub.status.idle": "2021-07-20T17:13:02.729132Z",
     "shell.execute_reply": "2021-07-20T17:13:02.728557Z",
     "shell.execute_reply.started": "2021-07-20T16:46:51.042319Z"
    },
    "id": "vbSnTnpAVZbU",
    "outputId": "41957269-9326-450e-8261-9f863e202a0a",
    "papermill": {
     "duration": 0.480153,
     "end_time": "2021-07-20T17:13:02.729262",
     "exception": false,
     "start_time": "2021-07-20T17:13:02.249109",
     "status": "completed"
    },
    "tags": []
   },
   "outputs": [
    {
     "data": {
      "text/plain": [
       "[Text(0.5, 0, 'Country'), Text(0, 0.5, 'Sale')]"
      ]
     },
     "execution_count": 36,
     "metadata": {},
     "output_type": "execute_result"
    },
    {
     "data": {
      "image/png": "[encoded data removed]",
      "text/plain": [
       "<Figure size 1080x360 with 1 Axes>"
      ]
     },
     "metadata": {
      "needs_background": "light"
     },
     "output_type": "display_data"
    }
   ],
   "source": [
    "sns.set_context(\"notebook\", font_scale=1.0, rc={\"lines.linewidth\": 2.5})\n",
    "plt.subplots(figsize=(15,5))\n",
    "a= df.groupby(\"Country\")[\"Price\"].size().plot(kind = \"bar\")\n",
    "a.set(xlabel=\"Country\", ylabel = \"Sale\")"
   ]
  },
  {
   "cell_type": "markdown",
   "id": "a538586d",
   "metadata": {
    "id": "3XzeXcppVZbU",
    "papermill": {
     "duration": 0.055136,
     "end_time": "2021-07-20T17:13:02.854522",
     "exception": false,
     "start_time": "2021-07-20T17:13:02.799386",
     "status": "completed"
    },
    "tags": []
   },
   "source": [
    "### observation:\n",
    "Maximum number of transactions have taken place in UK"
   ]
  },
  {
   "cell_type": "code",
   "execution_count": 37,
   "id": "f587d411",
   "metadata": {
    "execution": {
     "iopub.execute_input": "2021-07-20T17:13:02.958386Z",
     "iopub.status.busy": "2021-07-20T17:13:02.957580Z",
     "iopub.status.idle": "2021-07-20T17:13:02.960082Z",
     "shell.execute_reply": "2021-07-20T17:13:02.960477Z",
     "shell.execute_reply.started": "2021-07-20T16:46:51.695404Z"
    },
    "id": "9HNoJFNpVZbU",
    "papermill": {
     "duration": 0.057211,
     "end_time": "2021-07-20T17:13:02.960637",
     "exception": false,
     "start_time": "2021-07-20T17:13:02.903426",
     "status": "completed"
    },
    "tags": []
   },
   "outputs": [],
   "source": [
    "rfm['monetary_score']=rfm['monetary_score'].astype('int32')"
   ]
  },
  {
   "cell_type": "markdown",
   "id": "9898645c",
   "metadata": {
    "id": "wGxJ293LVZbU",
    "papermill": {
     "duration": 0.047522,
     "end_time": "2021-07-20T17:13:03.055945",
     "exception": false,
     "start_time": "2021-07-20T17:13:03.008423",
     "status": "completed"
    },
    "tags": []
   },
   "source": [
    "## since the sale is highest in UK thus we can check Uk to analyze the data more details"
   ]
  },
  {
   "cell_type": "code",
   "execution_count": 38,
   "id": "358f88e8",
   "metadata": {
    "execution": {
     "iopub.execute_input": "2021-07-20T17:13:03.191269Z",
     "iopub.status.busy": "2021-07-20T17:13:03.154693Z",
     "iopub.status.idle": "2021-07-20T17:13:03.330555Z",
     "shell.execute_reply": "2021-07-20T17:13:03.330064Z",
     "shell.execute_reply.started": "2021-07-20T16:46:51.702136Z"
    },
    "id": "I5yUBvKbVZbU",
    "papermill": {
     "duration": 0.226796,
     "end_time": "2021-07-20T17:13:03.330710",
     "exception": false,
     "start_time": "2021-07-20T17:13:03.103914",
     "status": "completed"
    },
    "tags": []
   },
   "outputs": [],
   "source": [
    "uk= df[df['Country']=='United Kingdom']"
   ]
  },
  {
   "cell_type": "code",
   "execution_count": 39,
   "id": "118e9178",
   "metadata": {
    "execution": {
     "iopub.execute_input": "2021-07-20T17:13:03.433935Z",
     "iopub.status.busy": "2021-07-20T17:13:03.433296Z",
     "iopub.status.idle": "2021-07-20T17:13:03.885080Z",
     "shell.execute_reply": "2021-07-20T17:13:03.884476Z",
     "shell.execute_reply.started": "2021-07-20T16:46:51.920157Z"
    },
    "id": "m4KR42y7VZbV",
    "papermill": {
     "duration": 0.506106,
     "end_time": "2021-07-20T17:13:03.885212",
     "exception": false,
     "start_time": "2021-07-20T17:13:03.379106",
     "status": "completed"
    },
    "tags": []
   },
   "outputs": [],
   "source": [
    "rfm_uk = uk.groupby('CustomerID').agg({'no_of_days': lambda x:x.min(),'CustomerID': lambda x: len(x),'Price': lambda x: x.sum()})     \n",
    "rfm_uk.rename(columns={'no_of_days': 'recency', 'CustomerID': 'frequency', 'Price': 'monetary'}, inplace=True)"
   ]
  },
  {
   "cell_type": "code",
   "execution_count": 40,
   "id": "fcb85c6d",
   "metadata": {
    "execution": {
     "iopub.execute_input": "2021-07-20T17:13:03.990851Z",
     "iopub.status.busy": "2021-07-20T17:13:03.989967Z",
     "iopub.status.idle": "2021-07-20T17:13:03.993967Z",
     "shell.execute_reply": "2021-07-20T17:13:03.993401Z",
     "shell.execute_reply.started": "2021-07-20T16:46:52.470678Z"
    },
    "id": "TxJ7XV2AVZbV",
    "outputId": "ce6f407c-06ef-4535-e750-cb0bf1e481b4",
    "papermill": {
     "duration": 0.061278,
     "end_time": "2021-07-20T17:13:03.994097",
     "exception": false,
     "start_time": "2021-07-20T17:13:03.932819",
     "status": "completed"
    },
    "tags": []
   },
   "outputs": [
    {
     "data": {
      "text/html": [
       "<div>\n",
       "<style scoped>\n",
       "    .dataframe tbody tr th:only-of-type {\n",
       "        vertical-align: middle;\n",
       "    }\n",
       "\n",
       "    .dataframe tbody tr th {\n",
       "        vertical-align: top;\n",
       "    }\n",
       "\n",
       "    .dataframe thead th {\n",
       "        text-align: right;\n",
       "    }\n",
       "</style>\n",
       "<table border=\"1\" class=\"dataframe\">\n",
       "  <thead>\n",
       "    <tr style=\"text-align: right;\">\n",
       "      <th></th>\n",
       "      <th>recency</th>\n",
       "      <th>frequency</th>\n",
       "      <th>monetary</th>\n",
       "    </tr>\n",
       "    <tr>\n",
       "      <th>CustomerID</th>\n",
       "      <th></th>\n",
       "      <th></th>\n",
       "      <th></th>\n",
       "    </tr>\n",
       "  </thead>\n",
       "  <tbody>\n",
       "    <tr>\n",
       "      <th>12346.0</th>\n",
       "      <td>348.0</td>\n",
       "      <td>2.0</td>\n",
       "      <td>77183.60</td>\n",
       "    </tr>\n",
       "    <tr>\n",
       "      <th>12747.0</th>\n",
       "      <td>25.0</td>\n",
       "      <td>103.0</td>\n",
       "      <td>4196.01</td>\n",
       "    </tr>\n",
       "    <tr>\n",
       "      <th>12748.0</th>\n",
       "      <td>23.0</td>\n",
       "      <td>4642.0</td>\n",
       "      <td>33719.73</td>\n",
       "    </tr>\n",
       "    <tr>\n",
       "      <th>12749.0</th>\n",
       "      <td>26.0</td>\n",
       "      <td>231.0</td>\n",
       "      <td>4090.88</td>\n",
       "    </tr>\n",
       "    <tr>\n",
       "      <th>12820.0</th>\n",
       "      <td>26.0</td>\n",
       "      <td>59.0</td>\n",
       "      <td>942.34</td>\n",
       "    </tr>\n",
       "  </tbody>\n",
       "</table>\n",
       "</div>"
      ],
      "text/plain": [
       "            recency  frequency  monetary\n",
       "CustomerID                              \n",
       "12346.0       348.0        2.0  77183.60\n",
       "12747.0        25.0      103.0   4196.01\n",
       "12748.0        23.0     4642.0  33719.73\n",
       "12749.0        26.0      231.0   4090.88\n",
       "12820.0        26.0       59.0    942.34"
      ]
     },
     "execution_count": 40,
     "metadata": {},
     "output_type": "execute_result"
    }
   ],
   "source": [
    "rfm_uk.head()"
   ]
  },
  {
   "cell_type": "code",
   "execution_count": 41,
   "id": "3c96049d",
   "metadata": {
    "execution": {
     "iopub.execute_input": "2021-07-20T17:13:04.095438Z",
     "iopub.status.busy": "2021-07-20T17:13:04.094800Z",
     "iopub.status.idle": "2021-07-20T17:13:04.097934Z",
     "shell.execute_reply": "2021-07-20T17:13:04.097383Z",
     "shell.execute_reply.started": "2021-07-20T16:46:52.485519Z"
    },
    "id": "QpDIkZ5KVZbV",
    "papermill": {
     "duration": 0.055694,
     "end_time": "2021-07-20T17:13:04.098062",
     "exception": false,
     "start_time": "2021-07-20T17:13:04.042368",
     "status": "completed"
    },
    "tags": []
   },
   "outputs": [],
   "source": [
    "rfm_uk['monetary']= rfm_uk['monetary'].astype('int')"
   ]
  },
  {
   "cell_type": "code",
   "execution_count": 42,
   "id": "ff23c8eb",
   "metadata": {
    "execution": {
     "iopub.execute_input": "2021-07-20T17:13:04.202440Z",
     "iopub.status.busy": "2021-07-20T17:13:04.200195Z",
     "iopub.status.idle": "2021-07-20T17:13:04.216429Z",
     "shell.execute_reply": "2021-07-20T17:13:04.215934Z",
     "shell.execute_reply.started": "2021-07-20T16:46:52.499275Z"
    },
    "id": "ZGIEONyGVZbV",
    "outputId": "5446768a-00b6-4f33-a7f2-b5a673bf3ca5",
    "papermill": {
     "duration": 0.069882,
     "end_time": "2021-07-20T17:13:04.216560",
     "exception": false,
     "start_time": "2021-07-20T17:13:04.146678",
     "status": "completed"
    },
    "tags": []
   },
   "outputs": [
    {
     "data": {
      "text/html": [
       "<div>\n",
       "<style scoped>\n",
       "    .dataframe tbody tr th:only-of-type {\n",
       "        vertical-align: middle;\n",
       "    }\n",
       "\n",
       "    .dataframe tbody tr th {\n",
       "        vertical-align: top;\n",
       "    }\n",
       "\n",
       "    .dataframe thead th {\n",
       "        text-align: right;\n",
       "    }\n",
       "</style>\n",
       "<table border=\"1\" class=\"dataframe\">\n",
       "  <thead>\n",
       "    <tr style=\"text-align: right;\">\n",
       "      <th></th>\n",
       "      <th>recency</th>\n",
       "      <th>frequency</th>\n",
       "      <th>monetary</th>\n",
       "    </tr>\n",
       "  </thead>\n",
       "  <tbody>\n",
       "    <tr>\n",
       "      <th>count</th>\n",
       "      <td>3950.000000</td>\n",
       "      <td>3950.000000</td>\n",
       "      <td>3950.000000</td>\n",
       "    </tr>\n",
       "    <tr>\n",
       "      <th>mean</th>\n",
       "      <td>114.323038</td>\n",
       "      <td>91.614684</td>\n",
       "      <td>1849.743291</td>\n",
       "    </tr>\n",
       "    <tr>\n",
       "      <th>std</th>\n",
       "      <td>100.236848</td>\n",
       "      <td>220.557389</td>\n",
       "      <td>7456.090479</td>\n",
       "    </tr>\n",
       "    <tr>\n",
       "      <th>min</th>\n",
       "      <td>23.000000</td>\n",
       "      <td>1.000000</td>\n",
       "      <td>0.000000</td>\n",
       "    </tr>\n",
       "    <tr>\n",
       "      <th>25%</th>\n",
       "      <td>39.000000</td>\n",
       "      <td>17.000000</td>\n",
       "      <td>293.000000</td>\n",
       "    </tr>\n",
       "    <tr>\n",
       "      <th>50%</th>\n",
       "      <td>73.000000</td>\n",
       "      <td>41.000000</td>\n",
       "      <td>641.500000</td>\n",
       "    </tr>\n",
       "    <tr>\n",
       "      <th>75%</th>\n",
       "      <td>166.000000</td>\n",
       "      <td>101.000000</td>\n",
       "      <td>1565.500000</td>\n",
       "    </tr>\n",
       "    <tr>\n",
       "      <th>max</th>\n",
       "      <td>396.000000</td>\n",
       "      <td>7983.000000</td>\n",
       "      <td>259657.000000</td>\n",
       "    </tr>\n",
       "  </tbody>\n",
       "</table>\n",
       "</div>"
      ],
      "text/plain": [
       "           recency    frequency       monetary\n",
       "count  3950.000000  3950.000000    3950.000000\n",
       "mean    114.323038    91.614684    1849.743291\n",
       "std     100.236848   220.557389    7456.090479\n",
       "min      23.000000     1.000000       0.000000\n",
       "25%      39.000000    17.000000     293.000000\n",
       "50%      73.000000    41.000000     641.500000\n",
       "75%     166.000000   101.000000    1565.500000\n",
       "max     396.000000  7983.000000  259657.000000"
      ]
     },
     "execution_count": 42,
     "metadata": {},
     "output_type": "execute_result"
    }
   ],
   "source": [
    "rfm_uk.describe()"
   ]
  },
  {
   "cell_type": "code",
   "execution_count": 43,
   "id": "aa16d05a",
   "metadata": {
    "execution": {
     "iopub.execute_input": "2021-07-20T17:13:04.319377Z",
     "iopub.status.busy": "2021-07-20T17:13:04.318810Z",
     "iopub.status.idle": "2021-07-20T17:13:04.325505Z",
     "shell.execute_reply": "2021-07-20T17:13:04.324937Z",
     "shell.execute_reply.started": "2021-07-20T16:46:52.528940Z"
    },
    "id": "O_XnbJs3VZbV",
    "papermill": {
     "duration": 0.060076,
     "end_time": "2021-07-20T17:13:04.325634",
     "exception": false,
     "start_time": "2021-07-20T17:13:04.265558",
     "status": "completed"
    },
    "tags": []
   },
   "outputs": [],
   "source": [
    "rfm_uk[\"recency_score\"] = pd.cut(rfm_uk[\"recency\"], bins=[-1,np.percentile(rfm_uk[\"recency\"], 25),np.percentile(rfm_uk[\"recency\"], 50), \n",
    "                                             np.percentile(rfm_uk[\"recency\"], 75),rfm_uk[\"recency\"].max()],labels=[4, 3, 2, 1]).astype(\"int\")"
   ]
  },
  {
   "cell_type": "code",
   "execution_count": 44,
   "id": "1f9b81c5",
   "metadata": {
    "execution": {
     "iopub.execute_input": "2021-07-20T17:13:04.432624Z",
     "iopub.status.busy": "2021-07-20T17:13:04.429513Z",
     "iopub.status.idle": "2021-07-20T17:13:04.435445Z",
     "shell.execute_reply": "2021-07-20T17:13:04.434953Z",
     "shell.execute_reply.started": "2021-07-20T16:46:52.541709Z"
    },
    "id": "mxq3ub-UVZbV",
    "papermill": {
     "duration": 0.060775,
     "end_time": "2021-07-20T17:13:04.435591",
     "exception": false,
     "start_time": "2021-07-20T17:13:04.374816",
     "status": "completed"
    },
    "tags": []
   },
   "outputs": [],
   "source": [
    "rfm_uk[\"frequency_score\"] = pd.cut(rfm_uk[\"frequency\"], bins=[-1,np.percentile(rfm_uk[\"frequency\"], 25),np.percentile(rfm_uk[\"frequency\"], 50), \n",
    "                                             np.percentile(rfm_uk[\"frequency\"], 75),rfm_uk[\"frequency\"].max()],labels=[1, 2, 3, 4]).astype(\"int\")"
   ]
  },
  {
   "cell_type": "code",
   "execution_count": 45,
   "id": "955db9d2",
   "metadata": {
    "execution": {
     "iopub.execute_input": "2021-07-20T17:13:04.536529Z",
     "iopub.status.busy": "2021-07-20T17:13:04.535965Z",
     "iopub.status.idle": "2021-07-20T17:13:04.543264Z",
     "shell.execute_reply": "2021-07-20T17:13:04.543672Z",
     "shell.execute_reply.started": "2021-07-20T16:46:52.554578Z"
    },
    "id": "oxnGUZ7kVZbV",
    "papermill": {
     "duration": 0.058888,
     "end_time": "2021-07-20T17:13:04.543832",
     "exception": false,
     "start_time": "2021-07-20T17:13:04.484944",
     "status": "completed"
    },
    "tags": []
   },
   "outputs": [],
   "source": [
    "rfm_uk[\"monetary_score\"] = pd.cut(rfm_uk[\"monetary\"], bins=[-1,np.percentile(rfm_uk[\"monetary\"], 25),np.percentile(rfm_uk[\"monetary\"], 50), \n",
    "                                             np.percentile(rfm_uk[\"monetary\"], 75),rfm_uk[\"monetary\"].max()],labels=[1, 2, 3, 4])"
   ]
  },
  {
   "cell_type": "code",
   "execution_count": 46,
   "id": "aba95598",
   "metadata": {
    "execution": {
     "iopub.execute_input": "2021-07-20T17:13:04.644184Z",
     "iopub.status.busy": "2021-07-20T17:13:04.643618Z",
     "iopub.status.idle": "2021-07-20T17:13:04.662621Z",
     "shell.execute_reply": "2021-07-20T17:13:04.662101Z",
     "shell.execute_reply.started": "2021-07-20T16:46:52.567953Z"
    },
    "id": "1kxXSAATVZbV",
    "outputId": "a8567b78-ddb8-41c9-a319-20e523f5f426",
    "papermill": {
     "duration": 0.070119,
     "end_time": "2021-07-20T17:13:04.662757",
     "exception": false,
     "start_time": "2021-07-20T17:13:04.592638",
     "status": "completed"
    },
    "tags": []
   },
   "outputs": [
    {
     "data": {
      "text/html": [
       "<div>\n",
       "<style scoped>\n",
       "    .dataframe tbody tr th:only-of-type {\n",
       "        vertical-align: middle;\n",
       "    }\n",
       "\n",
       "    .dataframe tbody tr th {\n",
       "        vertical-align: top;\n",
       "    }\n",
       "\n",
       "    .dataframe thead th {\n",
       "        text-align: right;\n",
       "    }\n",
       "</style>\n",
       "<table border=\"1\" class=\"dataframe\">\n",
       "  <thead>\n",
       "    <tr style=\"text-align: right;\">\n",
       "      <th></th>\n",
       "      <th>recency</th>\n",
       "      <th>frequency</th>\n",
       "      <th>monetary</th>\n",
       "      <th>recency_score</th>\n",
       "      <th>frequency_score</th>\n",
       "      <th>monetary_score</th>\n",
       "    </tr>\n",
       "    <tr>\n",
       "      <th>CustomerID</th>\n",
       "      <th></th>\n",
       "      <th></th>\n",
       "      <th></th>\n",
       "      <th></th>\n",
       "      <th></th>\n",
       "      <th></th>\n",
       "    </tr>\n",
       "  </thead>\n",
       "  <tbody>\n",
       "    <tr>\n",
       "      <th>12346.0</th>\n",
       "      <td>348.0</td>\n",
       "      <td>2.0</td>\n",
       "      <td>77183</td>\n",
       "      <td>1</td>\n",
       "      <td>1</td>\n",
       "      <td>4</td>\n",
       "    </tr>\n",
       "    <tr>\n",
       "      <th>12747.0</th>\n",
       "      <td>25.0</td>\n",
       "      <td>103.0</td>\n",
       "      <td>4196</td>\n",
       "      <td>4</td>\n",
       "      <td>4</td>\n",
       "      <td>4</td>\n",
       "    </tr>\n",
       "    <tr>\n",
       "      <th>12748.0</th>\n",
       "      <td>23.0</td>\n",
       "      <td>4642.0</td>\n",
       "      <td>33719</td>\n",
       "      <td>4</td>\n",
       "      <td>4</td>\n",
       "      <td>4</td>\n",
       "    </tr>\n",
       "    <tr>\n",
       "      <th>12749.0</th>\n",
       "      <td>26.0</td>\n",
       "      <td>231.0</td>\n",
       "      <td>4090</td>\n",
       "      <td>4</td>\n",
       "      <td>4</td>\n",
       "      <td>4</td>\n",
       "    </tr>\n",
       "    <tr>\n",
       "      <th>12820.0</th>\n",
       "      <td>26.0</td>\n",
       "      <td>59.0</td>\n",
       "      <td>942</td>\n",
       "      <td>4</td>\n",
       "      <td>3</td>\n",
       "      <td>3</td>\n",
       "    </tr>\n",
       "    <tr>\n",
       "      <th>...</th>\n",
       "      <td>...</td>\n",
       "      <td>...</td>\n",
       "      <td>...</td>\n",
       "      <td>...</td>\n",
       "      <td>...</td>\n",
       "      <td>...</td>\n",
       "    </tr>\n",
       "    <tr>\n",
       "      <th>18280.0</th>\n",
       "      <td>300.0</td>\n",
       "      <td>10.0</td>\n",
       "      <td>180</td>\n",
       "      <td>1</td>\n",
       "      <td>1</td>\n",
       "      <td>1</td>\n",
       "    </tr>\n",
       "    <tr>\n",
       "      <th>18281.0</th>\n",
       "      <td>203.0</td>\n",
       "      <td>7.0</td>\n",
       "      <td>80</td>\n",
       "      <td>1</td>\n",
       "      <td>1</td>\n",
       "      <td>1</td>\n",
       "    </tr>\n",
       "    <tr>\n",
       "      <th>18282.0</th>\n",
       "      <td>30.0</td>\n",
       "      <td>13.0</td>\n",
       "      <td>178</td>\n",
       "      <td>4</td>\n",
       "      <td>1</td>\n",
       "      <td>1</td>\n",
       "    </tr>\n",
       "    <tr>\n",
       "      <th>18283.0</th>\n",
       "      <td>26.0</td>\n",
       "      <td>756.0</td>\n",
       "      <td>2094</td>\n",
       "      <td>4</td>\n",
       "      <td>4</td>\n",
       "      <td>4</td>\n",
       "    </tr>\n",
       "    <tr>\n",
       "      <th>18287.0</th>\n",
       "      <td>65.0</td>\n",
       "      <td>70.0</td>\n",
       "      <td>1837</td>\n",
       "      <td>3</td>\n",
       "      <td>3</td>\n",
       "      <td>4</td>\n",
       "    </tr>\n",
       "  </tbody>\n",
       "</table>\n",
       "<p>3950 rows × 6 columns</p>\n",
       "</div>"
      ],
      "text/plain": [
       "            recency  frequency  monetary  recency_score  frequency_score  \\\n",
       "CustomerID                                                                 \n",
       "12346.0       348.0        2.0     77183              1                1   \n",
       "12747.0        25.0      103.0      4196              4                4   \n",
       "12748.0        23.0     4642.0     33719              4                4   \n",
       "12749.0        26.0      231.0      4090              4                4   \n",
       "12820.0        26.0       59.0       942              4                3   \n",
       "...             ...        ...       ...            ...              ...   \n",
       "18280.0       300.0       10.0       180              1                1   \n",
       "18281.0       203.0        7.0        80              1                1   \n",
       "18282.0        30.0       13.0       178              4                1   \n",
       "18283.0        26.0      756.0      2094              4                4   \n",
       "18287.0        65.0       70.0      1837              3                3   \n",
       "\n",
       "           monetary_score  \n",
       "CustomerID                 \n",
       "12346.0                 4  \n",
       "12747.0                 4  \n",
       "12748.0                 4  \n",
       "12749.0                 4  \n",
       "12820.0                 3  \n",
       "...                   ...  \n",
       "18280.0                 1  \n",
       "18281.0                 1  \n",
       "18282.0                 1  \n",
       "18283.0                 4  \n",
       "18287.0                 4  \n",
       "\n",
       "[3950 rows x 6 columns]"
      ]
     },
     "execution_count": 46,
     "metadata": {},
     "output_type": "execute_result"
    }
   ],
   "source": [
    "rfm_uk"
   ]
  },
  {
   "cell_type": "code",
   "execution_count": 47,
   "id": "59be3c6e",
   "metadata": {
    "execution": {
     "iopub.execute_input": "2021-07-20T17:13:04.767179Z",
     "iopub.status.busy": "2021-07-20T17:13:04.766324Z",
     "iopub.status.idle": "2021-07-20T17:13:04.769101Z",
     "shell.execute_reply": "2021-07-20T17:13:04.768649Z",
     "shell.execute_reply.started": "2021-07-20T16:46:52.600305Z"
    },
    "id": "C2-U8rs1VZbV",
    "papermill": {
     "duration": 0.056954,
     "end_time": "2021-07-20T17:13:04.769234",
     "exception": false,
     "start_time": "2021-07-20T17:13:04.712280",
     "status": "completed"
    },
    "tags": []
   },
   "outputs": [],
   "source": [
    "rfm_uk['RFMClass']=0\n",
    "rfm_uk['Customer_Seg']=''"
   ]
  },
  {
   "cell_type": "code",
   "execution_count": 48,
   "id": "10049c8e",
   "metadata": {
    "execution": {
     "iopub.execute_input": "2021-07-20T17:13:04.874398Z",
     "iopub.status.busy": "2021-07-20T17:13:04.873379Z",
     "iopub.status.idle": "2021-07-20T17:13:05.326371Z",
     "shell.execute_reply": "2021-07-20T17:13:05.325841Z",
     "shell.execute_reply.started": "2021-07-20T16:46:52.615504Z"
    },
    "id": "AryGyqLJVZbV",
    "outputId": "9db67e33-280a-4ed3-b7a7-713bfa85ef00",
    "papermill": {
     "duration": 0.507879,
     "end_time": "2021-07-20T17:13:05.326506",
     "exception": false,
     "start_time": "2021-07-20T17:13:04.818627",
     "status": "completed"
    },
    "scrolled": true,
    "tags": []
   },
   "outputs": [
    {
     "name": "stderr",
     "output_type": "stream",
     "text": [
      "/opt/conda/lib/python3.7/site-packages/ipykernel_launcher.py:3: SettingWithCopyWarning: \n",
      "A value is trying to be set on a copy of a slice from a DataFrame\n",
      "\n",
      "See the caveats in the documentation: https://pandas.pydata.org/pandas-docs/stable/user_guide/indexing.html#returning-a-view-versus-a-copy\n",
      "  This is separate from the ipykernel package so we can avoid doing imports until\n"
     ]
    }
   ],
   "source": [
    "j=0\n",
    "while j <= (len(rfm_uk)-1):\n",
    "    rfm_uk['RFMClass'][j]= ((rfm_uk['recency_score'].iloc[j])*100)+((rfm_uk['frequency_score'].iloc[j])*10)+(rfm_uk['monetary_score'].iloc[j])\n",
    "    j+=1"
   ]
  },
  {
   "cell_type": "code",
   "execution_count": 49,
   "id": "00d35479",
   "metadata": {
    "execution": {
     "iopub.execute_input": "2021-07-20T17:13:05.452735Z",
     "iopub.status.busy": "2021-07-20T17:13:05.442098Z",
     "iopub.status.idle": "2021-07-20T17:13:06.439612Z",
     "shell.execute_reply": "2021-07-20T17:13:06.439008Z",
     "shell.execute_reply.started": "2021-07-20T16:46:53.142094Z"
    },
    "id": "5rznXflLVZbW",
    "outputId": "a68e79e8-b942-4579-8147-a584ef93507e",
    "papermill": {
     "duration": 1.063804,
     "end_time": "2021-07-20T17:13:06.439745",
     "exception": false,
     "start_time": "2021-07-20T17:13:05.375941",
     "status": "completed"
    },
    "tags": []
   },
   "outputs": [
    {
     "name": "stderr",
     "output_type": "stream",
     "text": [
      "/opt/conda/lib/python3.7/site-packages/pandas/core/indexing.py:1637: SettingWithCopyWarning: \n",
      "A value is trying to be set on a copy of a slice from a DataFrame\n",
      "\n",
      "See the caveats in the documentation: https://pandas.pydata.org/pandas-docs/stable/user_guide/indexing.html#returning-a-view-versus-a-copy\n",
      "  self._setitem_single_block(indexer, value, name)\n"
     ]
    }
   ],
   "source": [
    "k=0\n",
    "while k <= (len(rfm_uk)-1):\n",
    "    if rfm_uk['recency_score'].iloc[k]== 4 and rfm_uk['frequency_score'].iloc[k]>=3 and  rfm_uk['monetary_score'].iloc[k]>=3:\n",
    "        rfm_uk['Customer_Seg'].iloc[k]= 'Top Customers'\n",
    "    elif rfm_uk['recency_score'].iloc[k]== 4 and rfm_uk['frequency_score'].iloc[k]>=1 and  rfm_uk['monetary_score'].iloc[k]>=1:\n",
    "        rfm_uk['Customer_Seg'].iloc[k]= 'Active Customers'\n",
    "    elif rfm_uk['recency_score'].iloc[k]== 3 and rfm_uk['frequency_score'].iloc[k]>=2 and  rfm_uk['monetary_score'].iloc[k]>=3:\n",
    "        rfm_uk['Customer_Seg'].iloc[k]= 'Emerging Customers'\n",
    "    elif rfm_uk['recency_score'].iloc[k]>= 3 and rfm_uk['frequency_score'].iloc[k]==1 and  rfm_uk['monetary_score'].iloc[k]>=1:\n",
    "        rfm_uk['Customer_Seg'].iloc[k]= 'Unsteady Customers'\n",
    "    elif rfm_uk['recency_score'].iloc[k]== 3 and rfm_uk['frequency_score'].iloc[k]>=2 and  rfm_uk['monetary_score'].iloc[k]<=2:\n",
    "        rfm_uk['Customer_Seg'].iloc[k]= 'Unsteady Customers'\n",
    "    elif rfm_uk['recency_score'].iloc[k]== 2 and rfm_uk['frequency_score'].iloc[k]>=1 and  rfm_uk['monetary_score'].iloc[k]>=3:\n",
    "        rfm_uk['Customer_Seg'].iloc[k]= 'At Risk'\n",
    "    elif rfm_uk['recency_score'].iloc[k]== 2 and rfm_uk['frequency_score'].iloc[k]>=3 and  rfm_uk['monetary_score'].iloc[k]<=2:\n",
    "        rfm_uk['Customer_Seg'].iloc[k]= 'At Risk'\n",
    "    elif rfm_uk['recency_score'].iloc[k]== 1 and rfm_uk['frequency_score'].iloc[k]>=3 and  rfm_uk['monetary_score'].iloc[k]>=1:\n",
    "        rfm_uk['Customer_Seg'].iloc[k]= 'At Risk'\n",
    "    elif rfm_uk['recency_score'].iloc[k]== 2 and rfm_uk['frequency_score'].iloc[k]<=2 and  rfm_uk['monetary_score'].iloc[k]<=2:\n",
    "        rfm_uk['Customer_Seg'].iloc[k]= 'Potentially lost'\n",
    "    elif rfm_uk['recency_score'].iloc[k]== 1 and rfm_uk['frequency_score'].iloc[k]<=2 and  rfm_uk['monetary_score'].iloc[k]>=3:\n",
    "        rfm_uk['Customer_Seg'].iloc[k]= 'Inactive Customers'\n",
    "    elif rfm_uk['recency_score'].iloc[k]== 1 and rfm_uk['frequency_score'].iloc[k]<=2 and  rfm_uk['monetary_score'].iloc[k]<=2:\n",
    "        rfm_uk['Customer_Seg'].iloc[k]= 'Lost'\n",
    "    else:\n",
    "        rfm_uk['Customer_Seg'].iloc[k]= 'Uncategorized'\n",
    "    k+=1       \n",
    "       "
   ]
  },
  {
   "cell_type": "code",
   "execution_count": 50,
   "id": "2d98fc05",
   "metadata": {
    "execution": {
     "iopub.execute_input": "2021-07-20T17:13:06.544406Z",
     "iopub.status.busy": "2021-07-20T17:13:06.543318Z",
     "iopub.status.idle": "2021-07-20T17:13:06.547251Z",
     "shell.execute_reply": "2021-07-20T17:13:06.546770Z",
     "shell.execute_reply.started": "2021-07-20T16:46:54.341982Z"
    },
    "id": "Mf0T1B4dVZbW",
    "papermill": {
     "duration": 0.058107,
     "end_time": "2021-07-20T17:13:06.547404",
     "exception": false,
     "start_time": "2021-07-20T17:13:06.489297",
     "status": "completed"
    },
    "scrolled": true,
    "tags": []
   },
   "outputs": [],
   "source": [
    "rfm_uk['monetary_score']=rfm_uk['monetary_score'].astype('int32')"
   ]
  },
  {
   "cell_type": "code",
   "execution_count": 51,
   "id": "3b9e5737",
   "metadata": {
    "execution": {
     "iopub.execute_input": "2021-07-20T17:13:06.652126Z",
     "iopub.status.busy": "2021-07-20T17:13:06.651568Z",
     "iopub.status.idle": "2021-07-20T17:13:06.665963Z",
     "shell.execute_reply": "2021-07-20T17:13:06.665397Z",
     "shell.execute_reply.started": "2021-07-20T16:46:54.350348Z"
    },
    "id": "DUBLWd8vVZbW",
    "outputId": "ac9b6d39-7431-438f-a65a-a010d52f3596",
    "papermill": {
     "duration": 0.068931,
     "end_time": "2021-07-20T17:13:06.666093",
     "exception": false,
     "start_time": "2021-07-20T17:13:06.597162",
     "status": "completed"
    },
    "tags": []
   },
   "outputs": [
    {
     "name": "stdout",
     "output_type": "stream",
     "text": [
      "<class 'pandas.core.frame.DataFrame'>\n",
      "Float64Index: 3950 entries, 12346.0 to 18287.0\n",
      "Data columns (total 8 columns):\n",
      " #   Column           Non-Null Count  Dtype  \n",
      "---  ------           --------------  -----  \n",
      " 0   recency          3950 non-null   float64\n",
      " 1   frequency        3950 non-null   float64\n",
      " 2   monetary         3950 non-null   int64  \n",
      " 3   recency_score    3950 non-null   int64  \n",
      " 4   frequency_score  3950 non-null   int64  \n",
      " 5   monetary_score   3950 non-null   int32  \n",
      " 6   RFMClass         3950 non-null   int64  \n",
      " 7   Customer_Seg     3950 non-null   object \n",
      "dtypes: float64(2), int32(1), int64(4), object(1)\n",
      "memory usage: 391.3+ KB\n"
     ]
    }
   ],
   "source": [
    "rfm_uk.info()"
   ]
  },
  {
   "cell_type": "code",
   "execution_count": 52,
   "id": "0c2b7a91",
   "metadata": {
    "execution": {
     "iopub.execute_input": "2021-07-20T17:13:06.775626Z",
     "iopub.status.busy": "2021-07-20T17:13:06.774703Z",
     "iopub.status.idle": "2021-07-20T17:13:06.778864Z",
     "shell.execute_reply": "2021-07-20T17:13:06.779361Z",
     "shell.execute_reply.started": "2021-07-20T16:46:54.378563Z"
    },
    "id": "jRecY_AMVZbW",
    "outputId": "43b63032-a05a-443d-d669-37c94b907a71",
    "papermill": {
     "duration": 0.06154,
     "end_time": "2021-07-20T17:13:06.779517",
     "exception": false,
     "start_time": "2021-07-20T17:13:06.717977",
     "status": "completed"
    },
    "tags": []
   },
   "outputs": [
    {
     "data": {
      "text/plain": [
       "Customer_Seg\n",
       "Active Customers      294\n",
       "At Risk               720\n",
       "Emerging Customers    575\n",
       "Inactive Customers     67\n",
       "Lost                  722\n",
       "Potentially lost      428\n",
       "Top Customers         695\n",
       "Unsteady Customers    449\n",
       "Name: RFMClass, dtype: int64"
      ]
     },
     "execution_count": 52,
     "metadata": {},
     "output_type": "execute_result"
    }
   ],
   "source": [
    "data1 = rfm_uk.groupby(\"Customer_Seg\")[\"RFMClass\"].count()\n",
    "data1"
   ]
  },
  {
   "cell_type": "code",
   "execution_count": 53,
   "id": "d6032049",
   "metadata": {
    "execution": {
     "iopub.execute_input": "2021-07-20T17:13:06.908446Z",
     "iopub.status.busy": "2021-07-20T17:13:06.907852Z",
     "iopub.status.idle": "2021-07-20T17:13:07.045475Z",
     "shell.execute_reply": "2021-07-20T17:13:07.044984Z",
     "shell.execute_reply.started": "2021-07-20T16:46:54.392209Z"
    },
    "id": "EI4eqYE7VZbW",
    "outputId": "4ae92d9f-2c93-4d4d-ad48-b694c89c5d45",
    "papermill": {
     "duration": 0.215824,
     "end_time": "2021-07-20T17:13:07.045611",
     "exception": false,
     "start_time": "2021-07-20T17:13:06.829787",
     "status": "completed"
    },
    "tags": []
   },
   "outputs": [
    {
     "data": {
      "text/plain": [
       "<AxesSubplot:ylabel='RFMClass'>"
      ]
     },
     "execution_count": 53,
     "metadata": {},
     "output_type": "execute_result"
    },
    {
     "data": {
      "image/png": "[encoded data removed]",
      "text/plain": [
       "<Figure size 720x720 with 1 Axes>"
      ]
     },
     "metadata": {},
     "output_type": "display_data"
    }
   ],
   "source": [
    "sns.set_context(\"notebook\", font_scale=1.0, rc={\"lines.linewidth\": 2.5})\n",
    "plt.subplots(figsize=(10,10))\n",
    "data1.plot.pie(autopct=\"%.1f%%\")"
   ]
  },
  {
   "cell_type": "code",
   "execution_count": 54,
   "id": "38f19f43",
   "metadata": {
    "execution": {
     "iopub.execute_input": "2021-07-20T17:13:07.171650Z",
     "iopub.status.busy": "2021-07-20T17:13:07.170966Z",
     "iopub.status.idle": "2021-07-20T17:13:07.580382Z",
     "shell.execute_reply": "2021-07-20T17:13:07.580829Z",
     "shell.execute_reply.started": "2021-07-20T16:46:54.600779Z"
    },
    "id": "aYF5riDeVZbW",
    "outputId": "fec2bbaf-5037-4b00-95e1-5a4007e6c3da",
    "papermill": {
     "duration": 0.482229,
     "end_time": "2021-07-20T17:13:07.580988",
     "exception": false,
     "start_time": "2021-07-20T17:13:07.098759",
     "status": "completed"
    },
    "tags": []
   },
   "outputs": [
    {
     "data": {
      "text/plain": [
       "<AxesSubplot:xlabel='Customer_Seg', ylabel='monetary'>"
      ]
     },
     "execution_count": 54,
     "metadata": {},
     "output_type": "execute_result"
    },
    {
     "data": {
      "image/png": "[encoded data removed]",
      "text/plain": [
       "<Figure size 1296x360 with 1 Axes>"
      ]
     },
     "metadata": {
      "needs_background": "light"
     },
     "output_type": "display_data"
    }
   ],
   "source": [
    "sns.set_context(\"notebook\", font_scale=1.0, rc={\"lines.linewidth\": 2.5})\n",
    "plt.subplots(figsize=(18,5))\n",
    "sns.barplot(y='monetary',x= 'Customer_Seg',data= rfm_uk)"
   ]
  }
 ],
 "metadata": {
  "kernelspec": {
   "display_name": "Python 3",
   "language": "python",
   "name": "python3"
  },
  "language_info": {
   "codemirror_mode": {
    "name": "ipython",
    "version": 3
   },
   "file_extension": ".py",
   "mimetype": "text/x-python",
   "name": "python",
   "nbconvert_exporter": "python",
   "pygments_lexer": "ipython3",
   "version": "3.7.10"
  },
  "papermill": {
   "default_parameters": {},
   "duration": 27.241023,
   "end_time": "2021-07-20T17:13:08.344129",
   "environment_variables": {},
   "exception": null,
   "input_path": "__notebook__.ipynb",
   "output_path": "__notebook__.ipynb",
   "parameters": {},
   "start_time": "2021-07-20T17:12:41.103106",
   "version": "2.3.3"
  }
 },
 "nbformat": 4,
 "nbformat_minor": 5
}
